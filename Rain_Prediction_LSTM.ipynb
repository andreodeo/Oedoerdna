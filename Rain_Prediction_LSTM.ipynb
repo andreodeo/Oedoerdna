{
  "nbformat": 4,
  "nbformat_minor": 0,
  "metadata": {
    "colab": {
      "provenance": [],
      "gpuType": "V28",
      "authorship_tag": "ABX9TyPVqA8i7prTM7xgOCkjJHL+",
      "include_colab_link": true
    },
    "kernelspec": {
      "name": "python3",
      "display_name": "Python 3"
    },
    "language_info": {
      "name": "python"
    },
    "accelerator": "TPU"
  },
  "cells": [
    {
      "cell_type": "markdown",
      "metadata": {
        "id": "view-in-github",
        "colab_type": "text"
      },
      "source": [
        "<a href=\"https://colab.research.google.com/github/andreodeo/Oedoerdna/blob/main/Rain_Prediction_LSTM.ipynb\" target=\"_parent\"><img src=\"https://colab.research.google.com/assets/colab-badge.svg\" alt=\"Open In Colab\"/></a>"
      ]
    },
    {
      "cell_type": "markdown",
      "source": [
        "#**TUGAS MATA KULIAH BUSINESS INTELLIGENCE**#\n",
        "\n",
        "**\"PREPROCESSING DATASET FOR MODEL RAIN PREDICTION USING LSTM\"**\n",
        "\n",
        "1. Andreo Yustiantoro Anjaya\t\t23.55.2523\n",
        "2.\tZahid Mujaddid\t\t\t23.55.2542\n",
        "3.\tMuhammad Yusuf Widiyanto\t\t23.51.2488\n",
        "4.\tNovel Adil Dwijaksana\t\t23.55.2548\n"
      ],
      "metadata": {
        "id": "PBYEpooS03Yq"
      }
    },
    {
      "cell_type": "markdown",
      "source": [],
      "metadata": {
        "id": "bS453q1LIHme"
      }
    },
    {
      "cell_type": "markdown",
      "source": [
        "#**A. PREPROCESSING DATASET**#"
      ],
      "metadata": {
        "id": "8T1KMWbFIB9r"
      }
    },
    {
      "cell_type": "markdown",
      "source": [
        "#1. Analisa Dataset#\n",
        "   \n",
        "   Untuk mengetahui struktur, karakteristik dan mendeteksi masalah data seperti missing value, outlier, dan duplikasi."
      ],
      "metadata": {
        "id": "z8VSUOK7H6Ty"
      }
    },
    {
      "cell_type": "markdown",
      "source": [
        "a. Load Dataset"
      ],
      "metadata": {
        "id": "ItjLwyGpJCEt"
      }
    },
    {
      "cell_type": "code",
      "source": [
        "# Impor library penting\n",
        "import pandas as pd\n",
        "import numpy as np\n",
        "import matplotlib.pyplot as plt\n",
        "import seaborn as sns\n",
        "\n",
        "\n",
        "# Mount Google Drive\n",
        "from google.colab import drive\n",
        "drive.mount('/content/drive')\n"
      ],
      "metadata": {
        "colab": {
          "base_uri": "https://localhost:8080/",
          "height": 0
        },
        "id": "NIIVwSB5ITQw",
        "outputId": "b9693c5b-c496-421a-e756-54af2b775702"
      },
      "execution_count": 1,
      "outputs": [
        {
          "output_type": "stream",
          "name": "stdout",
          "text": [
            "Mounted at /content/drive\n"
          ]
        }
      ]
    },
    {
      "cell_type": "code",
      "source": [
        "# Lokasi file dataset (sesuaikan dengan lokasi Anda)\n",
        "file_path = '/content/drive/MyDrive/Dataset Rain/seattle weather Dataset.csv'\n",
        "\n",
        "# Load dataset\n",
        "df = pd.read_csv(file_path)"
      ],
      "metadata": {
        "id": "BNXr6uoRJRMA"
      },
      "execution_count": 2,
      "outputs": []
    },
    {
      "cell_type": "markdown",
      "source": [
        "b. Inspeksi Awal\n",
        "\n",
        "Untuk melihat struktur dan karakteristik data"
      ],
      "metadata": {
        "id": "sQ7wT6x-KIsL"
      }
    },
    {
      "cell_type": "code",
      "source": [
        "# Inspeksi Awal\n",
        "print(\"🔍 Informasi Dataset:\")\n",
        "print(df.info())\n",
        "print(\"\\n🔍 5 baris pertama Dataset:\")\n",
        "display(df.head())"
      ],
      "metadata": {
        "colab": {
          "base_uri": "https://localhost:8080/",
          "height": 483
        },
        "id": "kalHq_lHKLof",
        "outputId": "f8f52efb-95e5-4117-d032-9c5a6dd838da"
      },
      "execution_count": 3,
      "outputs": [
        {
          "output_type": "stream",
          "name": "stdout",
          "text": [
            "🔍 Informasi Dataset:\n",
            "<class 'pandas.core.frame.DataFrame'>\n",
            "RangeIndex: 25551 entries, 0 to 25550\n",
            "Data columns (total 5 columns):\n",
            " #   Column  Non-Null Count  Dtype  \n",
            "---  ------  --------------  -----  \n",
            " 0   DATE    25551 non-null  object \n",
            " 1   PRCP    25548 non-null  float64\n",
            " 2   TMAX    25551 non-null  int64  \n",
            " 3   TMIN    25551 non-null  int64  \n",
            " 4   RAIN    25548 non-null  object \n",
            "dtypes: float64(1), int64(2), object(2)\n",
            "memory usage: 998.2+ KB\n",
            "None\n",
            "\n",
            "🔍 5 baris pertama Dataset:\n"
          ]
        },
        {
          "output_type": "display_data",
          "data": {
            "text/plain": [
              "       DATE  PRCP  TMAX  TMIN  RAIN\n",
              "0  1/1/1948  0.47    51    42  True\n",
              "1  1/2/1948  0.59    45    36  True\n",
              "2  1/3/1948  0.42    45    35  True\n",
              "3  1/4/1948  0.31    45    34  True\n",
              "4  1/5/1948  0.17    45    32  True"
            ],
            "text/html": [
              "\n",
              "  <div id=\"df-26bbbb7e-bad8-42bd-957c-dd1b6489b51e\" class=\"colab-df-container\">\n",
              "    <div>\n",
              "<style scoped>\n",
              "    .dataframe tbody tr th:only-of-type {\n",
              "        vertical-align: middle;\n",
              "    }\n",
              "\n",
              "    .dataframe tbody tr th {\n",
              "        vertical-align: top;\n",
              "    }\n",
              "\n",
              "    .dataframe thead th {\n",
              "        text-align: right;\n",
              "    }\n",
              "</style>\n",
              "<table border=\"1\" class=\"dataframe\">\n",
              "  <thead>\n",
              "    <tr style=\"text-align: right;\">\n",
              "      <th></th>\n",
              "      <th>DATE</th>\n",
              "      <th>PRCP</th>\n",
              "      <th>TMAX</th>\n",
              "      <th>TMIN</th>\n",
              "      <th>RAIN</th>\n",
              "    </tr>\n",
              "  </thead>\n",
              "  <tbody>\n",
              "    <tr>\n",
              "      <th>0</th>\n",
              "      <td>1/1/1948</td>\n",
              "      <td>0.47</td>\n",
              "      <td>51</td>\n",
              "      <td>42</td>\n",
              "      <td>True</td>\n",
              "    </tr>\n",
              "    <tr>\n",
              "      <th>1</th>\n",
              "      <td>1/2/1948</td>\n",
              "      <td>0.59</td>\n",
              "      <td>45</td>\n",
              "      <td>36</td>\n",
              "      <td>True</td>\n",
              "    </tr>\n",
              "    <tr>\n",
              "      <th>2</th>\n",
              "      <td>1/3/1948</td>\n",
              "      <td>0.42</td>\n",
              "      <td>45</td>\n",
              "      <td>35</td>\n",
              "      <td>True</td>\n",
              "    </tr>\n",
              "    <tr>\n",
              "      <th>3</th>\n",
              "      <td>1/4/1948</td>\n",
              "      <td>0.31</td>\n",
              "      <td>45</td>\n",
              "      <td>34</td>\n",
              "      <td>True</td>\n",
              "    </tr>\n",
              "    <tr>\n",
              "      <th>4</th>\n",
              "      <td>1/5/1948</td>\n",
              "      <td>0.17</td>\n",
              "      <td>45</td>\n",
              "      <td>32</td>\n",
              "      <td>True</td>\n",
              "    </tr>\n",
              "  </tbody>\n",
              "</table>\n",
              "</div>\n",
              "    <div class=\"colab-df-buttons\">\n",
              "\n",
              "  <div class=\"colab-df-container\">\n",
              "    <button class=\"colab-df-convert\" onclick=\"convertToInteractive('df-26bbbb7e-bad8-42bd-957c-dd1b6489b51e')\"\n",
              "            title=\"Convert this dataframe to an interactive table.\"\n",
              "            style=\"display:none;\">\n",
              "\n",
              "  <svg xmlns=\"http://www.w3.org/2000/svg\" height=\"24px\" viewBox=\"0 -960 960 960\">\n",
              "    <path d=\"M120-120v-720h720v720H120Zm60-500h600v-160H180v160Zm220 220h160v-160H400v160Zm0 220h160v-160H400v160ZM180-400h160v-160H180v160Zm440 0h160v-160H620v160ZM180-180h160v-160H180v160Zm440 0h160v-160H620v160Z\"/>\n",
              "  </svg>\n",
              "    </button>\n",
              "\n",
              "  <style>\n",
              "    .colab-df-container {\n",
              "      display:flex;\n",
              "      gap: 12px;\n",
              "    }\n",
              "\n",
              "    .colab-df-convert {\n",
              "      background-color: #E8F0FE;\n",
              "      border: none;\n",
              "      border-radius: 50%;\n",
              "      cursor: pointer;\n",
              "      display: none;\n",
              "      fill: #1967D2;\n",
              "      height: 32px;\n",
              "      padding: 0 0 0 0;\n",
              "      width: 32px;\n",
              "    }\n",
              "\n",
              "    .colab-df-convert:hover {\n",
              "      background-color: #E2EBFA;\n",
              "      box-shadow: 0px 1px 2px rgba(60, 64, 67, 0.3), 0px 1px 3px 1px rgba(60, 64, 67, 0.15);\n",
              "      fill: #174EA6;\n",
              "    }\n",
              "\n",
              "    .colab-df-buttons div {\n",
              "      margin-bottom: 4px;\n",
              "    }\n",
              "\n",
              "    [theme=dark] .colab-df-convert {\n",
              "      background-color: #3B4455;\n",
              "      fill: #D2E3FC;\n",
              "    }\n",
              "\n",
              "    [theme=dark] .colab-df-convert:hover {\n",
              "      background-color: #434B5C;\n",
              "      box-shadow: 0px 1px 3px 1px rgba(0, 0, 0, 0.15);\n",
              "      filter: drop-shadow(0px 1px 2px rgba(0, 0, 0, 0.3));\n",
              "      fill: #FFFFFF;\n",
              "    }\n",
              "  </style>\n",
              "\n",
              "    <script>\n",
              "      const buttonEl =\n",
              "        document.querySelector('#df-26bbbb7e-bad8-42bd-957c-dd1b6489b51e button.colab-df-convert');\n",
              "      buttonEl.style.display =\n",
              "        google.colab.kernel.accessAllowed ? 'block' : 'none';\n",
              "\n",
              "      async function convertToInteractive(key) {\n",
              "        const element = document.querySelector('#df-26bbbb7e-bad8-42bd-957c-dd1b6489b51e');\n",
              "        const dataTable =\n",
              "          await google.colab.kernel.invokeFunction('convertToInteractive',\n",
              "                                                    [key], {});\n",
              "        if (!dataTable) return;\n",
              "\n",
              "        const docLinkHtml = 'Like what you see? Visit the ' +\n",
              "          '<a target=\"_blank\" href=https://colab.research.google.com/notebooks/data_table.ipynb>data table notebook</a>'\n",
              "          + ' to learn more about interactive tables.';\n",
              "        element.innerHTML = '';\n",
              "        dataTable['output_type'] = 'display_data';\n",
              "        await google.colab.output.renderOutput(dataTable, element);\n",
              "        const docLink = document.createElement('div');\n",
              "        docLink.innerHTML = docLinkHtml;\n",
              "        element.appendChild(docLink);\n",
              "      }\n",
              "    </script>\n",
              "  </div>\n",
              "\n",
              "\n",
              "    <div id=\"df-ee6b7a95-5051-4900-a657-10da4e90d574\">\n",
              "      <button class=\"colab-df-quickchart\" onclick=\"quickchart('df-ee6b7a95-5051-4900-a657-10da4e90d574')\"\n",
              "                title=\"Suggest charts\"\n",
              "                style=\"display:none;\">\n",
              "\n",
              "<svg xmlns=\"http://www.w3.org/2000/svg\" height=\"24px\"viewBox=\"0 0 24 24\"\n",
              "     width=\"24px\">\n",
              "    <g>\n",
              "        <path d=\"M19 3H5c-1.1 0-2 .9-2 2v14c0 1.1.9 2 2 2h14c1.1 0 2-.9 2-2V5c0-1.1-.9-2-2-2zM9 17H7v-7h2v7zm4 0h-2V7h2v10zm4 0h-2v-4h2v4z\"/>\n",
              "    </g>\n",
              "</svg>\n",
              "      </button>\n",
              "\n",
              "<style>\n",
              "  .colab-df-quickchart {\n",
              "      --bg-color: #E8F0FE;\n",
              "      --fill-color: #1967D2;\n",
              "      --hover-bg-color: #E2EBFA;\n",
              "      --hover-fill-color: #174EA6;\n",
              "      --disabled-fill-color: #AAA;\n",
              "      --disabled-bg-color: #DDD;\n",
              "  }\n",
              "\n",
              "  [theme=dark] .colab-df-quickchart {\n",
              "      --bg-color: #3B4455;\n",
              "      --fill-color: #D2E3FC;\n",
              "      --hover-bg-color: #434B5C;\n",
              "      --hover-fill-color: #FFFFFF;\n",
              "      --disabled-bg-color: #3B4455;\n",
              "      --disabled-fill-color: #666;\n",
              "  }\n",
              "\n",
              "  .colab-df-quickchart {\n",
              "    background-color: var(--bg-color);\n",
              "    border: none;\n",
              "    border-radius: 50%;\n",
              "    cursor: pointer;\n",
              "    display: none;\n",
              "    fill: var(--fill-color);\n",
              "    height: 32px;\n",
              "    padding: 0;\n",
              "    width: 32px;\n",
              "  }\n",
              "\n",
              "  .colab-df-quickchart:hover {\n",
              "    background-color: var(--hover-bg-color);\n",
              "    box-shadow: 0 1px 2px rgba(60, 64, 67, 0.3), 0 1px 3px 1px rgba(60, 64, 67, 0.15);\n",
              "    fill: var(--button-hover-fill-color);\n",
              "  }\n",
              "\n",
              "  .colab-df-quickchart-complete:disabled,\n",
              "  .colab-df-quickchart-complete:disabled:hover {\n",
              "    background-color: var(--disabled-bg-color);\n",
              "    fill: var(--disabled-fill-color);\n",
              "    box-shadow: none;\n",
              "  }\n",
              "\n",
              "  .colab-df-spinner {\n",
              "    border: 2px solid var(--fill-color);\n",
              "    border-color: transparent;\n",
              "    border-bottom-color: var(--fill-color);\n",
              "    animation:\n",
              "      spin 1s steps(1) infinite;\n",
              "  }\n",
              "\n",
              "  @keyframes spin {\n",
              "    0% {\n",
              "      border-color: transparent;\n",
              "      border-bottom-color: var(--fill-color);\n",
              "      border-left-color: var(--fill-color);\n",
              "    }\n",
              "    20% {\n",
              "      border-color: transparent;\n",
              "      border-left-color: var(--fill-color);\n",
              "      border-top-color: var(--fill-color);\n",
              "    }\n",
              "    30% {\n",
              "      border-color: transparent;\n",
              "      border-left-color: var(--fill-color);\n",
              "      border-top-color: var(--fill-color);\n",
              "      border-right-color: var(--fill-color);\n",
              "    }\n",
              "    40% {\n",
              "      border-color: transparent;\n",
              "      border-right-color: var(--fill-color);\n",
              "      border-top-color: var(--fill-color);\n",
              "    }\n",
              "    60% {\n",
              "      border-color: transparent;\n",
              "      border-right-color: var(--fill-color);\n",
              "    }\n",
              "    80% {\n",
              "      border-color: transparent;\n",
              "      border-right-color: var(--fill-color);\n",
              "      border-bottom-color: var(--fill-color);\n",
              "    }\n",
              "    90% {\n",
              "      border-color: transparent;\n",
              "      border-bottom-color: var(--fill-color);\n",
              "    }\n",
              "  }\n",
              "</style>\n",
              "\n",
              "      <script>\n",
              "        async function quickchart(key) {\n",
              "          const quickchartButtonEl =\n",
              "            document.querySelector('#' + key + ' button');\n",
              "          quickchartButtonEl.disabled = true;  // To prevent multiple clicks.\n",
              "          quickchartButtonEl.classList.add('colab-df-spinner');\n",
              "          try {\n",
              "            const charts = await google.colab.kernel.invokeFunction(\n",
              "                'suggestCharts', [key], {});\n",
              "          } catch (error) {\n",
              "            console.error('Error during call to suggestCharts:', error);\n",
              "          }\n",
              "          quickchartButtonEl.classList.remove('colab-df-spinner');\n",
              "          quickchartButtonEl.classList.add('colab-df-quickchart-complete');\n",
              "        }\n",
              "        (() => {\n",
              "          let quickchartButtonEl =\n",
              "            document.querySelector('#df-ee6b7a95-5051-4900-a657-10da4e90d574 button');\n",
              "          quickchartButtonEl.style.display =\n",
              "            google.colab.kernel.accessAllowed ? 'block' : 'none';\n",
              "        })();\n",
              "      </script>\n",
              "    </div>\n",
              "\n",
              "    </div>\n",
              "  </div>\n"
            ],
            "application/vnd.google.colaboratory.intrinsic+json": {
              "type": "dataframe",
              "summary": "{\n  \"name\": \"display(df\",\n  \"rows\": 5,\n  \"fields\": [\n    {\n      \"column\": \"DATE\",\n      \"properties\": {\n        \"dtype\": \"object\",\n        \"num_unique_values\": 5,\n        \"samples\": [\n          \"1/2/1948\",\n          \"1/5/1948\",\n          \"1/3/1948\"\n        ],\n        \"semantic_type\": \"\",\n        \"description\": \"\"\n      }\n    },\n    {\n      \"column\": \"PRCP\",\n      \"properties\": {\n        \"dtype\": \"number\",\n        \"std\": 0.15974980438172684,\n        \"min\": 0.17,\n        \"max\": 0.59,\n        \"num_unique_values\": 5,\n        \"samples\": [\n          0.59,\n          0.17,\n          0.42\n        ],\n        \"semantic_type\": \"\",\n        \"description\": \"\"\n      }\n    },\n    {\n      \"column\": \"TMAX\",\n      \"properties\": {\n        \"dtype\": \"number\",\n        \"std\": 2,\n        \"min\": 45,\n        \"max\": 51,\n        \"num_unique_values\": 2,\n        \"samples\": [\n          45,\n          51\n        ],\n        \"semantic_type\": \"\",\n        \"description\": \"\"\n      }\n    },\n    {\n      \"column\": \"TMIN\",\n      \"properties\": {\n        \"dtype\": \"number\",\n        \"std\": 3,\n        \"min\": 32,\n        \"max\": 42,\n        \"num_unique_values\": 5,\n        \"samples\": [\n          36,\n          32\n        ],\n        \"semantic_type\": \"\",\n        \"description\": \"\"\n      }\n    },\n    {\n      \"column\": \"RAIN\",\n      \"properties\": {\n        \"dtype\": \"category\",\n        \"num_unique_values\": 1,\n        \"samples\": [\n          true\n        ],\n        \"semantic_type\": \"\",\n        \"description\": \"\"\n      }\n    }\n  ]\n}"
            }
          },
          "metadata": {}
        }
      ]
    },
    {
      "cell_type": "markdown",
      "source": [
        "c. Analisa statistik data\n",
        "\n",
        "Untuk melihat distribusi data secara statistik untuk mendeteksi permasalahan data terutama menyangkut missing value, outlier dan keseimbangan kelas."
      ],
      "metadata": {
        "id": "Qakm4vtCHnlU"
      }
    },
    {
      "cell_type": "code",
      "source": [
        "# Statistik Deskriptif\n",
        "print(\"\\n📊 Statistik Deskriptif:\")\n",
        "display(df[['PRCP', 'TMAX', 'TMIN', 'RAIN']].describe())\n",
        "\n",
        "# Grafik distribusi dataset untuk PRCP, TMAX, TMIN, dan RAIN\n",
        "import matplotlib.pyplot as plt\n",
        "import seaborn as sns\n",
        "\n",
        "fitur = ['PRCP', 'TMAX', 'TMIN', 'RAIN']\n",
        "\n",
        "plt.figure(figsize=(15, 10))\n",
        "for i, kolom in enumerate(fitur, 1):\n",
        "    plt.subplot(2, 2, i)\n",
        "    sns.histplot(df[kolom], bins=20, kde=True, color='skyblue')\n",
        "    plt.title(f'Distribusi {kolom}', fontsize=14)\n",
        "    plt.xlabel(kolom)\n",
        "    plt.ylabel('Frekuensi')\n",
        "\n",
        "plt.tight_layout()\n",
        "plt.show()\n"
      ],
      "metadata": {
        "colab": {
          "base_uri": "https://localhost:8080/",
          "height": 1000
        },
        "id": "k_0rLtwuTLJ-",
        "outputId": "db5b976d-de42-40ef-912d-1014b3893ed7"
      },
      "execution_count": 4,
      "outputs": [
        {
          "output_type": "stream",
          "name": "stdout",
          "text": [
            "\n",
            "📊 Statistik Deskriptif:\n"
          ]
        },
        {
          "output_type": "display_data",
          "data": {
            "text/plain": [
              "               PRCP          TMAX          TMIN\n",
              "count  25548.000000  25551.000000  25551.000000\n",
              "mean       0.106222     59.544206     44.514226\n",
              "std        0.239031     12.772984      8.892836\n",
              "min        0.000000      4.000000      0.000000\n",
              "25%        0.000000     50.000000     38.000000\n",
              "50%        0.000000     58.000000     45.000000\n",
              "75%        0.100000     69.000000     52.000000\n",
              "max        5.020000    103.000000     71.000000"
            ],
            "text/html": [
              "\n",
              "  <div id=\"df-2eaa566e-485a-4809-99de-6ae2f1df98ad\" class=\"colab-df-container\">\n",
              "    <div>\n",
              "<style scoped>\n",
              "    .dataframe tbody tr th:only-of-type {\n",
              "        vertical-align: middle;\n",
              "    }\n",
              "\n",
              "    .dataframe tbody tr th {\n",
              "        vertical-align: top;\n",
              "    }\n",
              "\n",
              "    .dataframe thead th {\n",
              "        text-align: right;\n",
              "    }\n",
              "</style>\n",
              "<table border=\"1\" class=\"dataframe\">\n",
              "  <thead>\n",
              "    <tr style=\"text-align: right;\">\n",
              "      <th></th>\n",
              "      <th>PRCP</th>\n",
              "      <th>TMAX</th>\n",
              "      <th>TMIN</th>\n",
              "    </tr>\n",
              "  </thead>\n",
              "  <tbody>\n",
              "    <tr>\n",
              "      <th>count</th>\n",
              "      <td>25548.000000</td>\n",
              "      <td>25551.000000</td>\n",
              "      <td>25551.000000</td>\n",
              "    </tr>\n",
              "    <tr>\n",
              "      <th>mean</th>\n",
              "      <td>0.106222</td>\n",
              "      <td>59.544206</td>\n",
              "      <td>44.514226</td>\n",
              "    </tr>\n",
              "    <tr>\n",
              "      <th>std</th>\n",
              "      <td>0.239031</td>\n",
              "      <td>12.772984</td>\n",
              "      <td>8.892836</td>\n",
              "    </tr>\n",
              "    <tr>\n",
              "      <th>min</th>\n",
              "      <td>0.000000</td>\n",
              "      <td>4.000000</td>\n",
              "      <td>0.000000</td>\n",
              "    </tr>\n",
              "    <tr>\n",
              "      <th>25%</th>\n",
              "      <td>0.000000</td>\n",
              "      <td>50.000000</td>\n",
              "      <td>38.000000</td>\n",
              "    </tr>\n",
              "    <tr>\n",
              "      <th>50%</th>\n",
              "      <td>0.000000</td>\n",
              "      <td>58.000000</td>\n",
              "      <td>45.000000</td>\n",
              "    </tr>\n",
              "    <tr>\n",
              "      <th>75%</th>\n",
              "      <td>0.100000</td>\n",
              "      <td>69.000000</td>\n",
              "      <td>52.000000</td>\n",
              "    </tr>\n",
              "    <tr>\n",
              "      <th>max</th>\n",
              "      <td>5.020000</td>\n",
              "      <td>103.000000</td>\n",
              "      <td>71.000000</td>\n",
              "    </tr>\n",
              "  </tbody>\n",
              "</table>\n",
              "</div>\n",
              "    <div class=\"colab-df-buttons\">\n",
              "\n",
              "  <div class=\"colab-df-container\">\n",
              "    <button class=\"colab-df-convert\" onclick=\"convertToInteractive('df-2eaa566e-485a-4809-99de-6ae2f1df98ad')\"\n",
              "            title=\"Convert this dataframe to an interactive table.\"\n",
              "            style=\"display:none;\">\n",
              "\n",
              "  <svg xmlns=\"http://www.w3.org/2000/svg\" height=\"24px\" viewBox=\"0 -960 960 960\">\n",
              "    <path d=\"M120-120v-720h720v720H120Zm60-500h600v-160H180v160Zm220 220h160v-160H400v160Zm0 220h160v-160H400v160ZM180-400h160v-160H180v160Zm440 0h160v-160H620v160ZM180-180h160v-160H180v160Zm440 0h160v-160H620v160Z\"/>\n",
              "  </svg>\n",
              "    </button>\n",
              "\n",
              "  <style>\n",
              "    .colab-df-container {\n",
              "      display:flex;\n",
              "      gap: 12px;\n",
              "    }\n",
              "\n",
              "    .colab-df-convert {\n",
              "      background-color: #E8F0FE;\n",
              "      border: none;\n",
              "      border-radius: 50%;\n",
              "      cursor: pointer;\n",
              "      display: none;\n",
              "      fill: #1967D2;\n",
              "      height: 32px;\n",
              "      padding: 0 0 0 0;\n",
              "      width: 32px;\n",
              "    }\n",
              "\n",
              "    .colab-df-convert:hover {\n",
              "      background-color: #E2EBFA;\n",
              "      box-shadow: 0px 1px 2px rgba(60, 64, 67, 0.3), 0px 1px 3px 1px rgba(60, 64, 67, 0.15);\n",
              "      fill: #174EA6;\n",
              "    }\n",
              "\n",
              "    .colab-df-buttons div {\n",
              "      margin-bottom: 4px;\n",
              "    }\n",
              "\n",
              "    [theme=dark] .colab-df-convert {\n",
              "      background-color: #3B4455;\n",
              "      fill: #D2E3FC;\n",
              "    }\n",
              "\n",
              "    [theme=dark] .colab-df-convert:hover {\n",
              "      background-color: #434B5C;\n",
              "      box-shadow: 0px 1px 3px 1px rgba(0, 0, 0, 0.15);\n",
              "      filter: drop-shadow(0px 1px 2px rgba(0, 0, 0, 0.3));\n",
              "      fill: #FFFFFF;\n",
              "    }\n",
              "  </style>\n",
              "\n",
              "    <script>\n",
              "      const buttonEl =\n",
              "        document.querySelector('#df-2eaa566e-485a-4809-99de-6ae2f1df98ad button.colab-df-convert');\n",
              "      buttonEl.style.display =\n",
              "        google.colab.kernel.accessAllowed ? 'block' : 'none';\n",
              "\n",
              "      async function convertToInteractive(key) {\n",
              "        const element = document.querySelector('#df-2eaa566e-485a-4809-99de-6ae2f1df98ad');\n",
              "        const dataTable =\n",
              "          await google.colab.kernel.invokeFunction('convertToInteractive',\n",
              "                                                    [key], {});\n",
              "        if (!dataTable) return;\n",
              "\n",
              "        const docLinkHtml = 'Like what you see? Visit the ' +\n",
              "          '<a target=\"_blank\" href=https://colab.research.google.com/notebooks/data_table.ipynb>data table notebook</a>'\n",
              "          + ' to learn more about interactive tables.';\n",
              "        element.innerHTML = '';\n",
              "        dataTable['output_type'] = 'display_data';\n",
              "        await google.colab.output.renderOutput(dataTable, element);\n",
              "        const docLink = document.createElement('div');\n",
              "        docLink.innerHTML = docLinkHtml;\n",
              "        element.appendChild(docLink);\n",
              "      }\n",
              "    </script>\n",
              "  </div>\n",
              "\n",
              "\n",
              "    <div id=\"df-e0d667ab-7650-45a5-9045-461180f38e8c\">\n",
              "      <button class=\"colab-df-quickchart\" onclick=\"quickchart('df-e0d667ab-7650-45a5-9045-461180f38e8c')\"\n",
              "                title=\"Suggest charts\"\n",
              "                style=\"display:none;\">\n",
              "\n",
              "<svg xmlns=\"http://www.w3.org/2000/svg\" height=\"24px\"viewBox=\"0 0 24 24\"\n",
              "     width=\"24px\">\n",
              "    <g>\n",
              "        <path d=\"M19 3H5c-1.1 0-2 .9-2 2v14c0 1.1.9 2 2 2h14c1.1 0 2-.9 2-2V5c0-1.1-.9-2-2-2zM9 17H7v-7h2v7zm4 0h-2V7h2v10zm4 0h-2v-4h2v4z\"/>\n",
              "    </g>\n",
              "</svg>\n",
              "      </button>\n",
              "\n",
              "<style>\n",
              "  .colab-df-quickchart {\n",
              "      --bg-color: #E8F0FE;\n",
              "      --fill-color: #1967D2;\n",
              "      --hover-bg-color: #E2EBFA;\n",
              "      --hover-fill-color: #174EA6;\n",
              "      --disabled-fill-color: #AAA;\n",
              "      --disabled-bg-color: #DDD;\n",
              "  }\n",
              "\n",
              "  [theme=dark] .colab-df-quickchart {\n",
              "      --bg-color: #3B4455;\n",
              "      --fill-color: #D2E3FC;\n",
              "      --hover-bg-color: #434B5C;\n",
              "      --hover-fill-color: #FFFFFF;\n",
              "      --disabled-bg-color: #3B4455;\n",
              "      --disabled-fill-color: #666;\n",
              "  }\n",
              "\n",
              "  .colab-df-quickchart {\n",
              "    background-color: var(--bg-color);\n",
              "    border: none;\n",
              "    border-radius: 50%;\n",
              "    cursor: pointer;\n",
              "    display: none;\n",
              "    fill: var(--fill-color);\n",
              "    height: 32px;\n",
              "    padding: 0;\n",
              "    width: 32px;\n",
              "  }\n",
              "\n",
              "  .colab-df-quickchart:hover {\n",
              "    background-color: var(--hover-bg-color);\n",
              "    box-shadow: 0 1px 2px rgba(60, 64, 67, 0.3), 0 1px 3px 1px rgba(60, 64, 67, 0.15);\n",
              "    fill: var(--button-hover-fill-color);\n",
              "  }\n",
              "\n",
              "  .colab-df-quickchart-complete:disabled,\n",
              "  .colab-df-quickchart-complete:disabled:hover {\n",
              "    background-color: var(--disabled-bg-color);\n",
              "    fill: var(--disabled-fill-color);\n",
              "    box-shadow: none;\n",
              "  }\n",
              "\n",
              "  .colab-df-spinner {\n",
              "    border: 2px solid var(--fill-color);\n",
              "    border-color: transparent;\n",
              "    border-bottom-color: var(--fill-color);\n",
              "    animation:\n",
              "      spin 1s steps(1) infinite;\n",
              "  }\n",
              "\n",
              "  @keyframes spin {\n",
              "    0% {\n",
              "      border-color: transparent;\n",
              "      border-bottom-color: var(--fill-color);\n",
              "      border-left-color: var(--fill-color);\n",
              "    }\n",
              "    20% {\n",
              "      border-color: transparent;\n",
              "      border-left-color: var(--fill-color);\n",
              "      border-top-color: var(--fill-color);\n",
              "    }\n",
              "    30% {\n",
              "      border-color: transparent;\n",
              "      border-left-color: var(--fill-color);\n",
              "      border-top-color: var(--fill-color);\n",
              "      border-right-color: var(--fill-color);\n",
              "    }\n",
              "    40% {\n",
              "      border-color: transparent;\n",
              "      border-right-color: var(--fill-color);\n",
              "      border-top-color: var(--fill-color);\n",
              "    }\n",
              "    60% {\n",
              "      border-color: transparent;\n",
              "      border-right-color: var(--fill-color);\n",
              "    }\n",
              "    80% {\n",
              "      border-color: transparent;\n",
              "      border-right-color: var(--fill-color);\n",
              "      border-bottom-color: var(--fill-color);\n",
              "    }\n",
              "    90% {\n",
              "      border-color: transparent;\n",
              "      border-bottom-color: var(--fill-color);\n",
              "    }\n",
              "  }\n",
              "</style>\n",
              "\n",
              "      <script>\n",
              "        async function quickchart(key) {\n",
              "          const quickchartButtonEl =\n",
              "            document.querySelector('#' + key + ' button');\n",
              "          quickchartButtonEl.disabled = true;  // To prevent multiple clicks.\n",
              "          quickchartButtonEl.classList.add('colab-df-spinner');\n",
              "          try {\n",
              "            const charts = await google.colab.kernel.invokeFunction(\n",
              "                'suggestCharts', [key], {});\n",
              "          } catch (error) {\n",
              "            console.error('Error during call to suggestCharts:', error);\n",
              "          }\n",
              "          quickchartButtonEl.classList.remove('colab-df-spinner');\n",
              "          quickchartButtonEl.classList.add('colab-df-quickchart-complete');\n",
              "        }\n",
              "        (() => {\n",
              "          let quickchartButtonEl =\n",
              "            document.querySelector('#df-e0d667ab-7650-45a5-9045-461180f38e8c button');\n",
              "          quickchartButtonEl.style.display =\n",
              "            google.colab.kernel.accessAllowed ? 'block' : 'none';\n",
              "        })();\n",
              "      </script>\n",
              "    </div>\n",
              "\n",
              "    </div>\n",
              "  </div>\n"
            ],
            "application/vnd.google.colaboratory.intrinsic+json": {
              "type": "dataframe",
              "summary": "{\n  \"name\": \"plt\",\n  \"rows\": 8,\n  \"fields\": [\n    {\n      \"column\": \"PRCP\",\n      \"properties\": {\n        \"dtype\": \"number\",\n        \"std\": 9032.306152075656,\n        \"min\": 0.0,\n        \"max\": 25548.0,\n        \"num_unique_values\": 6,\n        \"samples\": [\n          25548.0,\n          0.10622162204477847,\n          5.02\n        ],\n        \"semantic_type\": \"\",\n        \"description\": \"\"\n      }\n    },\n    {\n      \"column\": \"TMAX\",\n      \"properties\": {\n        \"dtype\": \"number\",\n        \"std\": 9015.699989998042,\n        \"min\": 4.0,\n        \"max\": 25551.0,\n        \"num_unique_values\": 8,\n        \"samples\": [\n          59.54420570623459,\n          58.0,\n          25551.0\n        ],\n        \"semantic_type\": \"\",\n        \"description\": \"\"\n      }\n    },\n    {\n      \"column\": \"TMIN\",\n      \"properties\": {\n        \"dtype\": \"number\",\n        \"std\": 9020.569640781965,\n        \"min\": 0.0,\n        \"max\": 25551.0,\n        \"num_unique_values\": 8,\n        \"samples\": [\n          44.51422644906266,\n          45.0,\n          25551.0\n        ],\n        \"semantic_type\": \"\",\n        \"description\": \"\"\n      }\n    }\n  ]\n}"
            }
          },
          "metadata": {}
        },
        {
          "output_type": "display_data",
          "data": {
            "text/plain": [
              "<Figure size 1500x1000 with 4 Axes>"
            ],
            "image/png": "[encoded data removed]"
          },
          "metadata": {}
        }
      ]
    },
    {
      "cell_type": "markdown",
      "source": [
        "Analisa :\n",
        "1. Untuk Fitur PRCP, distribusi Skewed Positif nilai berkumpul disekitar 0, terdapat nilai maksimum 5.02 jauh dari distribusi dominan data, perlu dilakukan analisa lanjut untuk penanganan outlier.\n",
        "2. Fitur Tmax terdistribusi mendekati normal\n",
        "3. Fitur Tmin distribusi relatif normal\n",
        "4. Fitur rain merupakan data binari dengan tipe kategorikal yang merupakan fitur target. Perlu dilakukan konversi ke numerik. Secara distribusi nilai target atau kelas hampir seimbang antara True & False.\n",
        "5. Dari jumlah count data fitur PRCP memiliki jumlah yang tidak sama dengan dan lebih sedikit dibanding fitur TMax dan Tmin, hal tersebut mengindikasikan terdapat missing value pada fitur PRCP, sehingga perlu dilakukan penanganan missing value.\n"
      ],
      "metadata": {
        "id": "PIC1BoXPHwe1"
      }
    },
    {
      "cell_type": "markdown",
      "source": [
        "#2. Feature Encoding"
      ],
      "metadata": {
        "id": "up0vfB0ujvar"
      }
    },
    {
      "cell_type": "markdown",
      "source": [
        "a. Konversi format data fitur date ke format tanggal\n",
        "\n",
        "agar data terurut secara kronologis dan dapat diproses untuk digunakan sebagai data time series untuk input model prediksi dengan LSTM."
      ],
      "metadata": {
        "id": "fG9ad2D-j367"
      }
    },
    {
      "cell_type": "code",
      "source": [
        "# 🔍 Tampilkan tipe data sebelum konversi\n",
        "print(\"\\n📋 Tipe Data Sebelum Konversi:\")\n",
        "print(df.dtypes)\n",
        "\n",
        "# Cek beberapa contoh isi kolom DATE\n",
        "print(\"\\n📅 Contoh Isi Kolom DATE Sebelum Konversi:\")\n",
        "print(df['DATE'].head())\n"
      ],
      "metadata": {
        "colab": {
          "base_uri": "https://localhost:8080/",
          "height": 0
        },
        "id": "2p8Dv7DJj2Lx",
        "outputId": "7cd7e9a4-d500-4887-bf0d-456441747f47"
      },
      "execution_count": 5,
      "outputs": [
        {
          "output_type": "stream",
          "name": "stdout",
          "text": [
            "\n",
            "📋 Tipe Data Sebelum Konversi:\n",
            "DATE     object\n",
            "PRCP    float64\n",
            "TMAX      int64\n",
            "TMIN      int64\n",
            "RAIN     object\n",
            "dtype: object\n",
            "\n",
            "📅 Contoh Isi Kolom DATE Sebelum Konversi:\n",
            "0    1/1/1948\n",
            "1    1/2/1948\n",
            "2    1/3/1948\n",
            "3    1/4/1948\n",
            "4    1/5/1948\n",
            "Name: DATE, dtype: object\n"
          ]
        }
      ]
    },
    {
      "cell_type": "code",
      "source": [
        "# Konversi kolom 'DATE' ke datetime dengan toleransi format\n",
        "import pandas as pd\n",
        "from dateutil import parser\n",
        "\n",
        "def safe_parse(x):\n",
        "    try:\n",
        "        return parser.parse(x)\n",
        "    except (ValueError, TypeError):\n",
        "        return pd.NaT\n",
        "\n",
        "# Terapkan fungsi parsing aman\n",
        "df['DATE'] = df['DATE'].apply(safe_parse)\n",
        "\n",
        "# 🔍 Tampilkan tipe data setelah konversi\n",
        "print(\"\\n📋 Tipe Data Setelah Konversi:\")\n",
        "print(df.dtypes)\n",
        "\n",
        "# Cek beberapa contoh isi kolom DATE setelah konversi\n",
        "print(\"\\n📅 Contoh Isi Kolom DATE Setelah Konversi:\")\n",
        "print(df['DATE'].head())\n",
        "\n",
        "# 🔍 Cek jika ada data 'DATE' yang gagal dikonversi\n",
        "num_invalid = df['DATE'].isnull().sum()\n",
        "if num_invalid > 0:\n",
        "    print(f\"\\n⚠️ Terdapat {num_invalid} data yang gagal dikonversi menjadi datetime.\")\n",
        "else:\n",
        "    print(\"\\n✅ Semua data di kolom 'DATE' berhasil dikonversi ke datetime.\")"
      ],
      "metadata": {
        "colab": {
          "base_uri": "https://localhost:8080/",
          "height": 0
        },
        "id": "EQgLvr_Klbmh",
        "outputId": "4499b570-6bae-46b6-ed30-e0b81e1c7ef3"
      },
      "execution_count": 6,
      "outputs": [
        {
          "output_type": "stream",
          "name": "stdout",
          "text": [
            "\n",
            "📋 Tipe Data Setelah Konversi:\n",
            "DATE    datetime64[ns]\n",
            "PRCP           float64\n",
            "TMAX             int64\n",
            "TMIN             int64\n",
            "RAIN            object\n",
            "dtype: object\n",
            "\n",
            "📅 Contoh Isi Kolom DATE Setelah Konversi:\n",
            "0   1948-01-01\n",
            "1   1948-01-02\n",
            "2   1948-01-03\n",
            "3   1948-01-04\n",
            "4   1948-01-05\n",
            "Name: DATE, dtype: datetime64[ns]\n",
            "\n",
            "✅ Semua data di kolom 'DATE' berhasil dikonversi ke datetime.\n"
          ]
        }
      ]
    },
    {
      "cell_type": "markdown",
      "source": [
        "Data berhasil di konvers dari tipe object (non numerik) ke tipe datetime dengan format yyyy-mm-dd"
      ],
      "metadata": {
        "id": "cH8zlsfXnJ6Z"
      }
    },
    {
      "cell_type": "markdown",
      "source": [
        "b. Konversi data Fitur Target (RAIN) dari kategorikal ke numerik.\n",
        "\n",
        "Konversi dilakukan karena model prediksi hanya dapat memproses angka untuk perhitungan khususnya untuk fitur target yaitu menghitung error atau loss"
      ],
      "metadata": {
        "id": "feoYdY-WnX1u"
      }
    },
    {
      "cell_type": "code",
      "source": [
        "# 🔍 Tampilkan tipe data dan nilai unik kolom 'RAIN' sebelum konversi\n",
        "print(\"\\n📋 Tipe Data Sebelum Konversi:\")\n",
        "print(df['RAIN'].dtype)\n",
        "\n",
        "print(\"\\n🌧️ Nilai Unik pada Kolom 'RAIN' Sebelum Konversi:\")\n",
        "print(df['RAIN'].unique())"
      ],
      "metadata": {
        "colab": {
          "base_uri": "https://localhost:8080/",
          "height": 0
        },
        "id": "SSPQ429oqDzX",
        "outputId": "584b6f3e-9a5f-4730-fe74-54a5976f2420"
      },
      "execution_count": 7,
      "outputs": [
        {
          "output_type": "stream",
          "name": "stdout",
          "text": [
            "\n",
            "📋 Tipe Data Sebelum Konversi:\n",
            "object\n",
            "\n",
            "🌧️ Nilai Unik pada Kolom 'RAIN' Sebelum Konversi:\n",
            "[True False nan]\n"
          ]
        }
      ]
    },
    {
      "cell_type": "code",
      "source": [
        "# Konversi RAIN ke numerik\n",
        "# Jika RAIN masih boolean (True/False), map ke 1/0\n",
        "# Kalau RAIN berupa teks ('Yes', 'No'), juga bisa map serupa\n",
        "df['RAIN'] = df['RAIN'].map({True: 1, False: 0, 'Yes': 1, 'No': 0}).astype('Int64')\n",
        "\n",
        "# 🔍 Tampilkan tipe data dan nilai unik kolom 'RAIN' setelah konversi\n",
        "print(\"\\n📋 Tipe Data Setelah Konversi:\")\n",
        "print(df['RAIN'].dtype)\n",
        "\n",
        "print(\"\\n🌧️ Nilai Unik pada Kolom 'RAIN' Setelah Konversi:\")\n",
        "print(df['RAIN'].unique())\n",
        "\n",
        "# 🔍 Cek distribusi data setelah konversi\n",
        "print(\"\\n📊 Distribusi Data Setelah Konversi:\")\n",
        "print(df['RAIN'].value_counts())"
      ],
      "metadata": {
        "colab": {
          "base_uri": "https://localhost:8080/",
          "height": 0
        },
        "id": "bDn4Vj7nqI9r",
        "outputId": "4863531b-5786-435a-a62b-0b0c8ae874d8"
      },
      "execution_count": 8,
      "outputs": [
        {
          "output_type": "stream",
          "name": "stdout",
          "text": [
            "\n",
            "📋 Tipe Data Setelah Konversi:\n",
            "Int64\n",
            "\n",
            "🌧️ Nilai Unik pada Kolom 'RAIN' Setelah Konversi:\n",
            "<IntegerArray>\n",
            "[1, 0, <NA>]\n",
            "Length: 3, dtype: Int64\n",
            "\n",
            "📊 Distribusi Data Setelah Konversi:\n",
            "RAIN\n",
            "0    14648\n",
            "1    10900\n",
            "Name: count, dtype: Int64\n"
          ]
        }
      ]
    },
    {
      "cell_type": "markdown",
      "source": [
        "Konversi data RAIN berhasil dilakukan dengan merubah nilai True = 1 dan False = 0. namun  terdapat data yang kosong NA, ditahap selanjutnya perlu dilakukan penanganan missing value"
      ],
      "metadata": {
        "id": "clqtZ-beqTyo"
      }
    },
    {
      "cell_type": "markdown",
      "source": [
        "#3. Penanganan missing Value\n",
        "Untuk mencegah hasil prediksi yang bias dan menghindari error pada pemrosesan data"
      ],
      "metadata": {
        "id": "FcBNfRFGbA2f"
      }
    },
    {
      "cell_type": "code",
      "source": [
        "# Tahap 1: Visualisasi Missing Value Sebelum Penanganan\n",
        "# Total data\n",
        "total_data = len(df)\n",
        "\n",
        "# Hitung missing value per kolom\n",
        "missing_counts = df.isnull().sum()\n",
        "missing_percentage = (missing_counts / total_data) * 100\n",
        "\n",
        "# Gabungkan hasil\n",
        "missing_report = pd.DataFrame({\n",
        "    'Missing Count': missing_counts,\n",
        "    'Missing Percentage (%)': missing_percentage\n",
        "})\n",
        "\n",
        "print(missing_report)\n",
        "print(f\"\\nJumlah total missing value di dataset: {missing_counts.sum()} dari {total_data*len(df.columns)} data poin.\")"
      ],
      "metadata": {
        "colab": {
          "base_uri": "https://localhost:8080/",
          "height": 0
        },
        "id": "uYbnebiUrdlF",
        "outputId": "dfe26990-e2cb-4346-bf1a-d3e217f1c5b4"
      },
      "execution_count": 9,
      "outputs": [
        {
          "output_type": "stream",
          "name": "stdout",
          "text": [
            "      Missing Count  Missing Percentage (%)\n",
            "DATE              0                0.000000\n",
            "PRCP              3                0.011741\n",
            "TMAX              0                0.000000\n",
            "TMIN              0                0.000000\n",
            "RAIN              3                0.011741\n",
            "\n",
            "Jumlah total missing value di dataset: 6 dari 127755 data poin.\n"
          ]
        }
      ]
    },
    {
      "cell_type": "markdown",
      "source": [
        "Jumlah data missing value relatif sangat rendah dibawah 1% dari total data keseluruhan sehingga dampaknya sangat kecil. Untuk teknik penanganan yaitu Hapus baris dengan missing value"
      ],
      "metadata": {
        "id": "bB9qo8AFs2l7"
      }
    },
    {
      "cell_type": "code",
      "source": [
        "# Hapus semua baris yang memiliki missing value\n",
        "df = df.dropna().reset_index(drop=True)\n",
        "\n",
        "print(\"\\n📋 Kondisi Missing Value Setelah Penanganan:\")\n",
        "\n",
        "# Update total data setelah drop\n",
        "total_data_after = len(df)\n",
        "\n",
        "# Hitung kembali missing value per kolom\n",
        "missing_counts_after = df.isnull().sum()\n",
        "missing_percentage_after = (missing_counts_after / total_data_after) * 100\n",
        "\n",
        "# Gabungkan hasil\n",
        "missing_report_after = pd.DataFrame({\n",
        "    'Missing Count': missing_counts_after,\n",
        "    'Missing Percentage (%)': missing_percentage_after\n",
        "})\n",
        "\n",
        "print(missing_report_after)\n",
        "print(f\"\\nJumlah total missing value di dataset setelah penanganan: {missing_counts_after.sum()} dari {total_data_after*len(df.columns)} data poin.\")"
      ],
      "metadata": {
        "colab": {
          "base_uri": "https://localhost:8080/",
          "height": 0
        },
        "id": "-dLQy2futW1l",
        "outputId": "bd86e56f-45d0-4883-ebda-ed2cab8e1e35"
      },
      "execution_count": 10,
      "outputs": [
        {
          "output_type": "stream",
          "name": "stdout",
          "text": [
            "\n",
            "📋 Kondisi Missing Value Setelah Penanganan:\n",
            "      Missing Count  Missing Percentage (%)\n",
            "DATE              0                     0.0\n",
            "PRCP              0                     0.0\n",
            "TMAX              0                     0.0\n",
            "TMIN              0                     0.0\n",
            "RAIN              0                     0.0\n",
            "\n",
            "Jumlah total missing value di dataset setelah penanganan: 0 dari 127740 data poin.\n"
          ]
        }
      ]
    },
    {
      "cell_type": "markdown",
      "source": [
        "#4. Deteksi dan Penanganan Outlier#\n",
        "\n",
        "Outlier atau data yang signifikan berbeda dari distribusi data kebanyakan dapat mempengaruhi hasil secara drastis khususnya dalam model prediksi, oleh karena perlu dilakukan deteksi dan analisa hasil deteksi outlier untuk selanjutnya menentukan langkah penanganan outlier."
      ],
      "metadata": {
        "id": "JJZQv34Y3tV6"
      }
    },
    {
      "cell_type": "markdown",
      "source": [
        "a. Deteksi Outlier\n",
        "\n",
        "Metode yang digunakan adalah Interquartile range (IQR), metode ini dipilih karena lebih sesuai untuk distribusi data tidak normal (skewed) dimana terdapat fitur dengan data yang terdistribusi skewed positif yaitu PRCP, dan untuk TMIN dan TMAX meskipun distribusi cenderung normal namun sedikit skewed."
      ],
      "metadata": {
        "id": "b2V5JTOI7Eqv"
      }
    },
    {
      "cell_type": "code",
      "source": [
        "# Tahap 1: Deteksi Outlier (Menggunakan IQR)\n",
        "# ==============================\n",
        "# Pastikan kolom numerik\n",
        "numerical_cols = ['PRCP', 'TMAX', 'TMIN']\n",
        "\n",
        "def detect_outliers_iqr(data, feature):\n",
        "    Q1 = data[feature].quantile(0.25)\n",
        "    Q3 = data[feature].quantile(0.75)\n",
        "    IQR = Q3 - Q1\n",
        "    lower_bound = Q1 - 1.5 * IQR\n",
        "    upper_bound = Q3 + 1.5 * IQR\n",
        "    outlier_indexes = data[(data[feature] < lower_bound) | (data[feature] > upper_bound)].index\n",
        "    return outlier_indexes\n",
        "\n",
        "# Simpan index outlier semua fitur\n",
        "outlier_indices = set()\n",
        "\n",
        "print(\"\\n📋 Deteksi Outlier per Fitur:\")\n",
        "\n",
        "for col in numerical_cols:\n",
        "    outliers = detect_outliers_iqr(df, col)\n",
        "    print(f\"{col}: {len(outliers)} outliers ({(len(outliers)/len(df))*100:.4f}%)\")\n",
        "    outlier_indices.update(outliers)\n",
        "\n",
        "print(f\"\\n🔍 Total baris mengandung outlier (gabungan semua fitur): {len(outlier_indices)}\")\n",
        "\n",
        "# ==============================\n",
        "# Tahap 2: Visualisasi Outlier\n",
        "# ==============================\n",
        "\n",
        "plt.figure(figsize=(15,5))\n",
        "for i, col in enumerate(numerical_cols, 1):\n",
        "    plt.subplot(1, 3, i)\n",
        "    sns.boxplot(x=df[col])\n",
        "    plt.title(f'Boxplot {col}')\n",
        "plt.tight_layout()\n",
        "plt.show()"
      ],
      "metadata": {
        "colab": {
          "base_uri": "https://localhost:8080/",
          "height": 519
        },
        "id": "4ESSTtlh5Q2h",
        "outputId": "62787b6f-2dd2-4bd6-b3e2-ffe3474e5721"
      },
      "execution_count": 11,
      "outputs": [
        {
          "output_type": "stream",
          "name": "stdout",
          "text": [
            "\n",
            "📋 Deteksi Outlier per Fitur:\n",
            "PRCP: 3558 outliers (13.9267%)\n",
            "TMAX: 24 outliers (0.0939%)\n",
            "TMIN: 92 outliers (0.3601%)\n",
            "\n",
            "🔍 Total baris mengandung outlier (gabungan semua fitur): 3658\n"
          ]
        },
        {
          "output_type": "display_data",
          "data": {
            "text/plain": [
              "<Figure size 1500x500 with 3 Axes>"
            ],
            "image/png": "[encoded data removed]"
          },
          "metadata": {}
        }
      ]
    },
    {
      "cell_type": "markdown",
      "source": [
        "Analisa Hasil deteksi Outlier :\n",
        "\n",
        "1. Fitur PRCP, outlier sebesar 13.9% dengan distribusi skewed(ekor ke kanan), dikarenakan jumlah outlier cukup signifikan, menghapus data akan merusak distribusi asli dan mengurangi informasi penting seperti nilai-nilai tinggi yang mengindikasikan curah hujan ekstrem.Penanganan dengan menggunakan metode log transform untuk menangani skewed.\n",
        "\n",
        "2. Fitur TMAX, outlier sangat kecil 0.09% kemungkinan data input yang keliru, penanganan dilakukan dengan menghapus data karena data cukup sedikit sehingga tidak mempengaruhi representasi distribusi.\n",
        "\n",
        "3. Fitur TMIN, outlier sangat sedikit 0.36% kemungkinan data input yang keliru, penanganan dilakukan dengan menghapus data karena data cukup sedikit sehingga tidak mempengaruhi representasi distribusi.\n"
      ],
      "metadata": {
        "id": "42847kQ2_Hnx"
      }
    },
    {
      "cell_type": "markdown",
      "source": [
        "b. Penanganan outlier"
      ],
      "metadata": {
        "id": "LJj9Fdf3HaiB"
      }
    },
    {
      "cell_type": "code",
      "source": [
        "# Step 1: Penanganan Outlier\n",
        "# ==============================\n",
        "\n",
        "# 🔵 Untuk PRCP: lakukan log transform\n",
        "df['PRCP'] = np.log1p(df['PRCP'])  # log(1 + PRCP) untuk menangani nilai 0\n",
        "\n",
        "# 🔵 Untuk TMAX dan TMIN: hapus outlier\n",
        "# 🔍 Deteksi outlier per fitur\n",
        "outlier_indices_TMAX = detect_outliers_iqr(df, 'TMAX')  # <-- definisikan dulu\n",
        "outlier_indices_TMIN = detect_outliers_iqr(df, 'TMIN')  # <-- definisikan juga\n",
        "\n",
        "\n",
        "outlier_indices_to_drop = outlier_indices_TMAX.union(outlier_indices_TMIN)\n",
        "df = df.drop(index=outlier_indices_to_drop, errors='ignore')\n",
        "df = df.reset_index(drop=True)\n",
        "\n",
        "print(f\"\\n✅ Data setelah penghapusan outlier TMAX dan TMIN: {len(df)} baris\")\n",
        "\n",
        "\n",
        "# Step 2: Visualisasi Distribusi Setelah Penanganan\n",
        "# ==============================\n",
        "\n",
        "plt.figure(figsize=(15,5))\n",
        "for i, col in enumerate(numerical_cols, 1):\n",
        "    plt.subplot(1, 3, i)\n",
        "    sns.boxplot(x=df[col])\n",
        "    plt.title(f'Boxplot Setelah Penanganan - {col}')\n",
        "plt.tight_layout()\n",
        "plt.show()"
      ],
      "metadata": {
        "colab": {
          "base_uri": "https://localhost:8080/",
          "height": 432
        },
        "id": "XhjYrX8R_LUd",
        "outputId": "20da90db-2ff3-4320-bf53-9b3f7061f068"
      },
      "execution_count": 12,
      "outputs": [
        {
          "output_type": "stream",
          "name": "stdout",
          "text": [
            "\n",
            "✅ Data setelah penghapusan outlier TMAX dan TMIN: 25444 baris\n"
          ]
        },
        {
          "output_type": "display_data",
          "data": {
            "text/plain": [
              "<Figure size 1500x500 with 3 Axes>"
            ],
            "image/png": "[encoded data removed]"
          },
          "metadata": {}
        }
      ]
    },
    {
      "cell_type": "markdown",
      "source": [
        "Hasil\n",
        "\n",
        "1. PRCP : menunjukkan distribusi tetap skewed ke kanan meskipun sudah dikurangi dengan log transform. namun Skala PRCP maksimal di sekitar 1.0 sehingga Skew dan outlier tidak separah sebelum transformasi.\n",
        "\n",
        "2. TMIN dan TMAX : outlier telah dihapus sehingga tidak terdapat outlier."
      ],
      "metadata": {
        "id": "DeSI4hAFLGkw"
      }
    },
    {
      "cell_type": "markdown",
      "source": [
        "#5. Penambahan fitur bulan (sinyal siklikal) / Feature creation & Encoding"
      ],
      "metadata": {
        "id": "-t0C3zrLL3jb"
      }
    },
    {
      "cell_type": "markdown",
      "source": [
        "Penambahan fitur bulan dilakukan untuk melihat pengaruh musiman (bulan) dalam prediksi hujan pada model LSTM. (Skenario dengan dan tanpa fitur bulan )"
      ],
      "metadata": {
        "id": "qlIj49e4M8fQ"
      }
    },
    {
      "cell_type": "code",
      "source": [
        "# Step 1: Menambahkan Fitur Bulan (Sinyal Siklikal)\n",
        "# ==============================\n",
        "\n",
        "# Pastikan kolom DATE sudah bertipe datetime\n",
        "df['DATE'] = pd.to_datetime(df['DATE'], errors='coerce')\n",
        "\n",
        "# Ekstrak bulan dari kolom DATE\n",
        "df['Month'] = df['DATE'].dt.month\n",
        "\n",
        "# Buat sinyal siklikal dari bulan\n",
        "df['month_sin'] = np.sin(2 * np.pi * df['Month'] / 12)\n",
        "df['month_cos'] = np.cos(2 * np.pi * df['Month'] / 12)\n",
        "\n",
        "# (Opsional) Drop kolom Month jika tidak mau dipakai\n",
        "df = df.drop(columns=['Month'])\n",
        "\n",
        "# ==============================\n",
        "# Tampilkan Data Setelah Penambahan Fitur Bulan\n",
        "# ==============================\n",
        "\n",
        "print(\"\\n✅ Data setelah penambahan fitur sinyal bulan (month_sin, month_cos):\")\n",
        "print(df.head())\n",
        "\n",
        "# Menampilkan tipe data untuk memastikan semuanya benar\n",
        "print(\"\\n📋 Tipe data kolom:\")\n",
        "print(df.dtypes)\n"
      ],
      "metadata": {
        "colab": {
          "base_uri": "https://localhost:8080/",
          "height": 0
        },
        "id": "bfvDesVBLHm7",
        "outputId": "bbdc3255-41f2-406c-b137-76dab8d2dc85"
      },
      "execution_count": 13,
      "outputs": [
        {
          "output_type": "stream",
          "name": "stdout",
          "text": [
            "\n",
            "✅ Data setelah penambahan fitur sinyal bulan (month_sin, month_cos):\n",
            "        DATE      PRCP  TMAX  TMIN  RAIN  month_sin  month_cos\n",
            "0 1948-01-01  0.385262    51    42     1        0.5   0.866025\n",
            "1 1948-01-02  0.463734    45    36     1        0.5   0.866025\n",
            "2 1948-01-03  0.350657    45    35     1        0.5   0.866025\n",
            "3 1948-01-04  0.270027    45    34     1        0.5   0.866025\n",
            "4 1948-01-05  0.157004    45    32     1        0.5   0.866025\n",
            "\n",
            "📋 Tipe data kolom:\n",
            "DATE         datetime64[ns]\n",
            "PRCP                float64\n",
            "TMAX                  int64\n",
            "TMIN                  int64\n",
            "RAIN                  Int64\n",
            "month_sin           float64\n",
            "month_cos           float64\n",
            "dtype: object\n"
          ]
        }
      ]
    },
    {
      "cell_type": "markdown",
      "source": [
        "#6. Scaling\n",
        "\n",
        "Scaling dilakukan agar nilai-nilai fitur numerik berada dalam rentang yang seragam. Sehingga model tidak bias dalam melakukan prediksi"
      ],
      "metadata": {
        "id": "F_EprpYeO8Wm"
      }
    },
    {
      "cell_type": "markdown",
      "source": [
        "Metode yang dipilih untuk scaling adalah MinMaxScaler, karena distribusi fitur sudah tidak terlalu skew dan LSTM cenderung lebih stabil jika input antara [0, 1]"
      ],
      "metadata": {
        "id": "3lHq2D-hP7M0"
      }
    },
    {
      "cell_type": "code",
      "source": [
        "from sklearn.preprocessing import MinMaxScaler\n",
        "\n",
        "# Fitur yang akan di-scale\n",
        "features_for_scaling = ['PRCP', 'TMAX', 'TMIN', 'month_sin', 'month_cos']\n",
        "\n",
        "scaler = MinMaxScaler()\n",
        "df_scaled = pd.DataFrame(\n",
        "    scaler.fit_transform(df[features_for_scaling]),\n",
        "    columns=features_for_scaling\n",
        ")\n",
        "\n",
        "# Gabungkan kembali dengan kolom target\n",
        "df_scaled['RAIN'] = df['RAIN'].values\n",
        "\n",
        "print(\"\\n✅ Data setelah scaling:\")\n",
        "print(df_scaled.head())\n"
      ],
      "metadata": {
        "colab": {
          "base_uri": "https://localhost:8080/",
          "height": 0
        },
        "id": "qapiarZFQXRp",
        "outputId": "0ec856cd-dbd1-4d66-f529-52eadd737370"
      },
      "execution_count": 14,
      "outputs": [
        {
          "output_type": "stream",
          "name": "stdout",
          "text": [
            "\n",
            "✅ Data setelah scaling:\n",
            "       PRCP      TMAX      TMIN  month_sin  month_cos  RAIN\n",
            "0  0.214620  0.369863  0.480769       0.75   0.933013     1\n",
            "1  0.258335  0.287671  0.365385       0.75   0.933013     1\n",
            "2  0.195343  0.287671  0.346154       0.75   0.933013     1\n",
            "3  0.150426  0.287671  0.326923       0.75   0.933013     1\n",
            "4  0.087463  0.287671  0.288462       0.75   0.933013     1\n"
          ]
        }
      ]
    },
    {
      "cell_type": "markdown",
      "source": [
        "#7. Keseimbangan data\n",
        "\n",
        "Tahap ini untuk melihat dan penanganan menyangkut keseimbangan data, hal ini perlu dilakukan karena model prediksi sensitif terhadap data imbalance, selain itu untuk menentukan strategi training dan evaluasi"
      ],
      "metadata": {
        "id": "nMhtBWSbRV8o"
      }
    },
    {
      "cell_type": "code",
      "source": [
        "# Cek jumlah masing-masing kelas\n",
        "target_counts = df_scaled['RAIN'].value_counts()\n",
        "target_percent = df_scaled['RAIN'].value_counts(normalize=True) * 100\n",
        "\n",
        "print(\"\\n📋 Jumlah Data per Kelas:\")\n",
        "print(target_counts)\n",
        "\n",
        "print(\"\\n📈 Persentase Data per Kelas:\")\n",
        "print(target_percent.round(2))\n",
        "\n",
        "# Visualisasi distribusi target\n",
        "plt.figure(figsize=(6,4))\n",
        "plt.bar(target_counts.index.astype(str), target_counts.values, color='skyblue')\n",
        "plt.title('Distribusi Target RAIN')\n",
        "plt.xlabel('RAIN (0 = Tidak Hujan, 1 = Hujan)')\n",
        "plt.ylabel('Jumlah Data')\n",
        "plt.grid(axis='y', linestyle='--')\n",
        "plt.show()"
      ],
      "metadata": {
        "colab": {
          "base_uri": "https://localhost:8080/",
          "height": 618
        },
        "id": "pjDSlTRfR-Ax",
        "outputId": "670bad9e-1b35-4bfa-f082-5f17dc99139a"
      },
      "execution_count": 15,
      "outputs": [
        {
          "output_type": "stream",
          "name": "stdout",
          "text": [
            "\n",
            "📋 Jumlah Data per Kelas:\n",
            "RAIN\n",
            "0    14566\n",
            "1    10878\n",
            "Name: count, dtype: Int64\n",
            "\n",
            "📈 Persentase Data per Kelas:\n",
            "RAIN\n",
            "0    57.25\n",
            "1    42.75\n",
            "Name: proportion, dtype: Float64\n"
          ]
        },
        {
          "output_type": "display_data",
          "data": {
            "text/plain": [
              "<Figure size 600x400 with 1 Axes>"
            ],
            "image/png": "[encoded data removed]"
          },
          "metadata": {}
        }
      ]
    },
    {
      "cell_type": "markdown",
      "source": [
        "Dari hasil pemeriksaan kelas data, selisih antara kelas sekitar 14.5%, berdasarkan hasil tersebut kelas data masih cukup seimbang sehingga tidak perlu dilakukan penanganan data tidak seimbang"
      ],
      "metadata": {
        "id": "ZOLFMylzStfa"
      }
    },
    {
      "cell_type": "markdown",
      "source": [
        "#8. Fitur Korelasi\n",
        "\n",
        "Untuk melihat korelasi antara prediktor dan target (RAIN) serta korelasi antar fitur"
      ],
      "metadata": {
        "id": "G8Of4MAdU82Q"
      }
    },
    {
      "cell_type": "code",
      "source": [
        "\n",
        "# Step: Hitung Korelasi\n",
        "# ==========================\n",
        "# Korelasi Pearson antar semua kolom numerik\n",
        "correlation_matrix = df_scaled.corr()\n",
        "\n",
        "print(\"\\n📋 Korelasi Antar Fitur:\")\n",
        "print(correlation_matrix)\n",
        "\n",
        "\n",
        "# Step: Visualisasi Heatmap Korelasi\n",
        "# ==========================\n",
        "plt.figure(figsize=(10,8))\n",
        "sns.heatmap(\n",
        "    correlation_matrix,\n",
        "    annot=True, fmt='.2f',\n",
        "    cmap='coolwarm',\n",
        "    square=True,\n",
        "    cbar_kws={\"shrink\": .75}\n",
        ")\n",
        "plt.title('Heatmap Korelasi Fitur')\n",
        "plt.show()\n"
      ],
      "metadata": {
        "colab": {
          "base_uri": "https://localhost:8080/",
          "height": 855
        },
        "id": "_RvmqeQhU7RE",
        "outputId": "708a8b9a-c187-4a52-8bd3-b5bf0d8ebc90"
      },
      "execution_count": 16,
      "outputs": [
        {
          "output_type": "stream",
          "name": "stdout",
          "text": [
            "\n",
            "📋 Korelasi Antar Fitur:\n",
            "               PRCP      TMAX      TMIN  month_sin  month_cos      RAIN\n",
            "PRCP       1.000000 -0.268730 -0.085049   0.087454   0.256195  0.595054\n",
            "TMAX      -0.268730  1.000000  0.858208  -0.463352  -0.688924 -0.397910\n",
            "TMIN      -0.085049  0.858208  1.000000  -0.529365  -0.612364 -0.148282\n",
            "month_sin  0.087454 -0.463352 -0.529365   1.000000  -0.003737  0.171559\n",
            "month_cos  0.256195 -0.688924 -0.612364  -0.003737   1.000000  0.257178\n",
            "RAIN       0.595054 -0.397910 -0.148282   0.171559   0.257178  1.000000\n"
          ]
        },
        {
          "output_type": "display_data",
          "data": {
            "text/plain": [
              "<Figure size 1000x800 with 2 Axes>"
            ],
            "image/png": "[encoded data removed]"
          },
          "metadata": {}
        }
      ]
    },
    {
      "cell_type": "markdown",
      "source": [
        "1. PRCP-RAIN : Korelasi kuat-Positif , Fitur terpenting untuk prediksi hujan.\n",
        "\n",
        "2. TMAX-RAIN : Korelasi-Sedang Negatif, Fitur penting, tapi berlawanan arah (negatif terhadap hujan).\n",
        "\n",
        "3. TMIN-RAIN : Korelasi Lemah-Negatif, Fitur tambahan, tidak dominan.\n",
        "\n",
        "4. month_sin-RAIN & month_cos-RAIN : Korelasi Lemah-Positif, Membantu menangkap pola musiman, walau kontribusinya tidak dominan.\n",
        "\n",
        "Dari hasil tersebut akan dibuat skenario prediksi dengan atau tanpa TMIN dan fitur bulan."
      ],
      "metadata": {
        "id": "Fin0_44dWRkg"
      }
    },
    {
      "cell_type": "markdown",
      "source": [
        "#B. MODEL LSTM\n",
        "\n",
        "Dalam tugas ini,  model Long Short-Term Memory (LSTM) dipilih untuk membangun sistem prediksi hujan berbasis data historis cuaca.\n",
        "Pemilihan LSTM didasarkan pada beberapa pertimbangan penting terkait karakteristik dataset dan kebutuhan analisis yaitu sifat data yang digunakan adalah time series dimana setiap data memiliki keterkaitan temporal, dan kemampuan LSTM menangani hubungan jangka panjang tidak hanya 1 hari namun dalam pola jangka panjang misalkan 7 hari dan 1 bulan.\n",
        "\n",
        "Sliding window adalah teknik dalam data time-series yang membentuk pasangan input-output dengan mengambil sejumlah data historis sebagai dasar untuk memprediksi nilai ke depan.\n",
        "Metode ini memungkinkan model, seperti LSTM, belajar dari pola waktu dalam data.\n",
        "\n",
        "Dalam penelitian ini, dipilih ukuran window:\n",
        "\n",
        "1. 7 hari untuk menangkap pola cuaca jangka pendek,\n",
        "\n",
        "2. 14 hari untuk menangkap transisi perubahan cuaca,\n",
        "\n",
        "3. 30 hari untuk mengenali pola musiman dan tren jangka panjang.\n",
        "\n",
        "Pemilihan ini bertujuan mengeksplorasi seberapa jauh histori data memengaruhi akurasi prediksi hujan."
      ],
      "metadata": {
        "id": "JRLeCdLkX4zn"
      }
    },
    {
      "cell_type": "markdown",
      "source": [
        "Model diuji dalam beberapa skenario sebagai berikut\n",
        "1. Menggunakan Fitur Lengkap\n",
        "2. Tanpa fitur TMIN\n",
        "3. Tanpa Fitur month_sin dan month_cos\n",
        "4. Tanpa fitur TMIN, month_sin dan month_cos\n"
      ],
      "metadata": {
        "id": "MQGUKJPYZLti"
      }
    },
    {
      "cell_type": "code",
      "source": [
        "# Pastikan kolom 'DATE' ada di df_scaled\n",
        "df_scaled['DATE'] = df['DATE'].values  # Ambil dari df asli\n",
        "\n",
        "# Baru lakukan sort\n",
        "df_scaled = df_scaled.sort_values('DATE').reset_index(drop=True)\n",
        "\n",
        "print(\"\\n✅ Data diurutkan berdasarkan kolom DATE.\")\n",
        "\n",
        "# ==========================\n",
        "# Tampilkan Kolom df_scaled\n",
        "# ==========================\n",
        "print(\"\\n📋 Kolom-kolom yang tersedia di df_scaled:\")\n",
        "print(df_scaled.columns.tolist())\n"
      ],
      "metadata": {
        "colab": {
          "base_uri": "https://localhost:8080/",
          "height": 0
        },
        "id": "-PYmgJm3g9-I",
        "outputId": "19c6e866-5af9-4fdc-cef0-c3cfc424a0fd"
      },
      "execution_count": 17,
      "outputs": [
        {
          "output_type": "stream",
          "name": "stdout",
          "text": [
            "\n",
            "✅ Data diurutkan berdasarkan kolom DATE.\n",
            "\n",
            "📋 Kolom-kolom yang tersedia di df_scaled:\n",
            "['PRCP', 'TMAX', 'TMIN', 'month_sin', 'month_cos', 'RAIN', 'DATE']\n"
          ]
        }
      ]
    },
    {
      "cell_type": "code",
      "source": [
        "# ============================================\n",
        "# Setup Runtime Environment\n",
        "# ============================================\n",
        "\n",
        "import os\n",
        "\n",
        "try:\n",
        "    import tensorflow as tf\n",
        "except ModuleNotFoundError:\n",
        "    print(\"🚀 TensorFlow belum ada, install dulu...\")\n",
        "    !pip install tensorflow\n",
        "    import tensorflow as tf\n",
        "\n",
        "import numpy as np\n",
        "import pandas as pd\n",
        "import matplotlib.pyplot as plt\n",
        "from sklearn.model_selection import train_test_split\n",
        "from sklearn.metrics import accuracy_score, precision_score, recall_score, f1_score\n",
        "from tensorflow.keras.models import Sequential\n",
        "from tensorflow.keras.layers import LSTM, Dense\n",
        "\n",
        "# Cek device aktif\n",
        "try:\n",
        "    tpu = tf.distribute.cluster_resolver.TPUClusterResolver()\n",
        "    print('✅ TPU aktif:', tpu.master())\n",
        "    tf.config.experimental_connect_to_cluster(tpu)\n",
        "    tf.tpu.experimental.initialize_tpu_system(tpu)\n",
        "    strategy = tf.distribute.TPUStrategy(tpu)\n",
        "except ValueError:\n",
        "    gpus = tf.config.list_physical_devices('GPU')\n",
        "    if len(gpus) > 0:\n",
        "        print('✅ GPU aktif:', gpus)\n",
        "        strategy = tf.distribute.MirroredStrategy()\n",
        "    else:\n",
        "        print('✅ CPU aktif.')\n",
        "        strategy = tf.distribute.get_strategy()\n",
        "\n",
        "print('Jumlah device:', strategy.num_replicas_in_sync)\n",
        "\n",
        "# ============================================\n",
        "# Setting Skenario dan Sliding Window\n",
        "# ============================================\n",
        "\n",
        "window_sizes = [7, 14, 30]  # Ukuran sliding window\n",
        "scenarios = {\n",
        "    'Full Features': ['PRCP', 'TMAX', 'TMIN', 'month_sin', 'month_cos'],\n",
        "    'Without TMIN': ['PRCP', 'TMAX', 'month_sin', 'month_cos'],\n",
        "    'Without Month Features': ['PRCP', 'TMAX', 'TMIN'],\n",
        "    'Without TMIN and Month Features': ['PRCP', 'TMAX']\n",
        "}\n",
        "\n",
        "target_col = 'RAIN'\n",
        "\n",
        "# ============================================\n",
        "# Fungsi Membuat Sliding Window\n",
        "# ============================================\n",
        "\n",
        "def create_sliding_window(data, features, target, window_size):\n",
        "    X, y = [], []\n",
        "    for i in range(len(data) - window_size):\n",
        "        X.append(data[features].iloc[i:i+window_size].values)\n",
        "        y.append(data[target].iloc[i + window_size])\n",
        "    return np.array(X), np.array(y)\n",
        "\n",
        "# ============================================\n",
        "# Fungsi Membuat Model LSTM Sederhana\n",
        "# ============================================\n",
        "\n",
        "def build_lstm_model(input_shape):\n",
        "    model = Sequential()\n",
        "    model.add(LSTM(64, activation='tanh', input_shape=input_shape))\n",
        "    model.add(Dense(1, activation='sigmoid'))\n",
        "    model.compile(optimizer='adam', loss='binary_crossentropy', metrics=['accuracy'])\n",
        "    return model\n",
        "\n",
        "# ============================================\n",
        "# Training dan Evaluasi Semua Skenario + Window Size\n",
        "# ============================================\n",
        "\n",
        "metrics_results = []\n",
        "\n",
        "for scenario_name, feature_list in scenarios.items():\n",
        "    for window_size in window_sizes:\n",
        "        print(f\"\\n🚀 Training dan Evaluasi untuk {scenario_name} dengan window size {window_size} hari...\")\n",
        "\n",
        "        # Buat Sliding Window\n",
        "        X, y = create_sliding_window(df_scaled, feature_list, target_col, window_size)\n",
        "\n",
        "        # Split Train-Test (20% Test)\n",
        "        split_index = int((1 - 0.2) * len(X))\n",
        "        X_train, X_test = X[:split_index], X[split_index:]\n",
        "        y_train, y_test = y[:split_index], y[split_index:]\n",
        "\n",
        "        # Build and Train Model\n",
        "        with strategy.scope():\n",
        "            model = build_lstm_model(input_shape=(X_train.shape[1], X_train.shape[2]))\n",
        "            model.fit(X_train, y_train, epochs=10, batch_size=32,\n",
        "                      validation_data=(X_test, y_test), verbose=0)\n",
        "\n",
        "        # Predict\n",
        "        y_pred_prob = model.predict(X_test)\n",
        "        y_pred = (y_pred_prob >= 0.5).astype(int).flatten()\n",
        "\n",
        "        # Hitung Metrics\n",
        "        acc = accuracy_score(y_test, y_pred)\n",
        "        prec = precision_score(y_test, y_pred, zero_division=0)\n",
        "        rec = recall_score(y_test, y_pred, zero_division=0)\n",
        "        f1 = f1_score(y_test, y_pred, zero_division=0)\n",
        "\n",
        "        # Simpan hasil\n",
        "        metrics_results.append({\n",
        "            'Scenario': scenario_name,\n",
        "            'Window Size (days)': window_size,\n",
        "            'Accuracy': acc,\n",
        "            'Precision': prec,\n",
        "            'Recall': rec,\n",
        "            'F1-Score': f1\n",
        "        })\n",
        "\n",
        "# ============================================\n",
        "# Buat Tabel Matriks Evaluasi\n",
        "# ============================================\n",
        "\n",
        "metrics_df = pd.DataFrame(metrics_results)\n",
        "\n",
        "print(\"\\n📋 Tabel Matriks Evaluasi Lengkap:\")\n",
        "display(metrics_df)\n",
        "\n",
        "# ============================================\n",
        "# Visualisasi Matriks Evaluasi\n",
        "# ============================================\n",
        "\n",
        "# Plot 4 subplots (1 untuk masing-masing metrik)\n",
        "fig, axs = plt.subplots(2, 2, figsize=(18, 10))\n",
        "fig.suptitle('📊 Perbandingan Matriks Evaluasi per Skenario dan Window Size', fontsize=16)\n",
        "\n",
        "# List of metrics dan axis\n",
        "metrics = ['Accuracy', 'Precision', 'Recall', 'F1-Score']\n",
        "axes = axs.flatten()\n",
        "\n",
        "for idx, metric in enumerate(metrics):\n",
        "    ax = axes[idx]\n",
        "    for scenario in metrics_df['Scenario'].unique():\n",
        "        subset = metrics_df[metrics_df['Scenario'] == scenario]\n",
        "        ax.plot(subset['Window Size (days)'], subset[metric], marker='o', label=scenario)\n",
        "\n",
        "    ax.set_title(metric)\n",
        "    ax.set_xlabel('Window Size (days)')\n",
        "    ax.set_ylabel(metric)\n",
        "    ax.grid(True)\n",
        "    ax.legend(title='Skenario')\n",
        "    ax.set_xticks(window_sizes)\n",
        "    ax.set_ylim(0, 1)\n",
        "\n",
        "plt.tight_layout(rect=[0, 0, 1, 0.96])\n",
        "plt.show()\n"
      ],
      "metadata": {
        "colab": {
          "base_uri": "https://localhost:8080/",
          "height": 1000
        },
        "id": "40zYyjQyiewK",
        "outputId": "41bc9bdb-1864-41d8-b777-3e2d1b6caa16"
      },
      "execution_count": 28,
      "outputs": [
        {
          "output_type": "stream",
          "name": "stdout",
          "text": [
            "✅ CPU aktif.\n",
            "Jumlah device: 1\n",
            "\n",
            "🚀 Training dan Evaluasi untuk Full Features dengan window size 7 hari...\n"
          ]
        },
        {
          "output_type": "stream",
          "name": "stderr",
          "text": [
            "/usr/local/lib/python3.11/dist-packages/keras/src/layers/rnn/rnn.py:200: UserWarning: Do not pass an `input_shape`/`input_dim` argument to a layer. When using Sequential models, prefer using an `Input(shape)` object as the first layer in the model instead.\n",
            "  super().__init__(**kwargs)\n"
          ]
        },
        {
          "output_type": "stream",
          "name": "stdout",
          "text": [
            "\u001b[1m159/159\u001b[0m \u001b[32m━━━━━━━━━━━━━━━━━━━━\u001b[0m\u001b[37m\u001b[0m \u001b[1m0s\u001b[0m 2ms/step\n",
            "\n",
            "🚀 Training dan Evaluasi untuk Full Features dengan window size 14 hari...\n"
          ]
        },
        {
          "output_type": "stream",
          "name": "stderr",
          "text": [
            "/usr/local/lib/python3.11/dist-packages/keras/src/layers/rnn/rnn.py:200: UserWarning: Do not pass an `input_shape`/`input_dim` argument to a layer. When using Sequential models, prefer using an `Input(shape)` object as the first layer in the model instead.\n",
            "  super().__init__(**kwargs)\n"
          ]
        },
        {
          "output_type": "stream",
          "name": "stdout",
          "text": [
            "\u001b[1m159/159\u001b[0m \u001b[32m━━━━━━━━━━━━━━━━━━━━\u001b[0m\u001b[37m\u001b[0m \u001b[1m1s\u001b[0m 3ms/step\n",
            "\n",
            "🚀 Training dan Evaluasi untuk Full Features dengan window size 30 hari...\n"
          ]
        },
        {
          "output_type": "stream",
          "name": "stderr",
          "text": [
            "/usr/local/lib/python3.11/dist-packages/keras/src/layers/rnn/rnn.py:200: UserWarning: Do not pass an `input_shape`/`input_dim` argument to a layer. When using Sequential models, prefer using an `Input(shape)` object as the first layer in the model instead.\n",
            "  super().__init__(**kwargs)\n"
          ]
        },
        {
          "output_type": "stream",
          "name": "stdout",
          "text": [
            "\u001b[1m159/159\u001b[0m \u001b[32m━━━━━━━━━━━━━━━━━━━━\u001b[0m\u001b[37m\u001b[0m \u001b[1m1s\u001b[0m 4ms/step\n",
            "\n",
            "🚀 Training dan Evaluasi untuk Without TMIN dengan window size 7 hari...\n"
          ]
        },
        {
          "output_type": "stream",
          "name": "stderr",
          "text": [
            "/usr/local/lib/python3.11/dist-packages/keras/src/layers/rnn/rnn.py:200: UserWarning: Do not pass an `input_shape`/`input_dim` argument to a layer. When using Sequential models, prefer using an `Input(shape)` object as the first layer in the model instead.\n",
            "  super().__init__(**kwargs)\n"
          ]
        },
        {
          "output_type": "stream",
          "name": "stdout",
          "text": [
            "\u001b[1m159/159\u001b[0m \u001b[32m━━━━━━━━━━━━━━━━━━━━\u001b[0m\u001b[37m\u001b[0m \u001b[1m0s\u001b[0m 2ms/step\n",
            "\n",
            "🚀 Training dan Evaluasi untuk Without TMIN dengan window size 14 hari...\n"
          ]
        },
        {
          "output_type": "stream",
          "name": "stderr",
          "text": [
            "/usr/local/lib/python3.11/dist-packages/keras/src/layers/rnn/rnn.py:200: UserWarning: Do not pass an `input_shape`/`input_dim` argument to a layer. When using Sequential models, prefer using an `Input(shape)` object as the first layer in the model instead.\n",
            "  super().__init__(**kwargs)\n"
          ]
        },
        {
          "output_type": "stream",
          "name": "stdout",
          "text": [
            "\u001b[1m159/159\u001b[0m \u001b[32m━━━━━━━━━━━━━━━━━━━━\u001b[0m\u001b[37m\u001b[0m \u001b[1m1s\u001b[0m 3ms/step\n",
            "\n",
            "🚀 Training dan Evaluasi untuk Without TMIN dengan window size 30 hari...\n"
          ]
        },
        {
          "output_type": "stream",
          "name": "stderr",
          "text": [
            "/usr/local/lib/python3.11/dist-packages/keras/src/layers/rnn/rnn.py:200: UserWarning: Do not pass an `input_shape`/`input_dim` argument to a layer. When using Sequential models, prefer using an `Input(shape)` object as the first layer in the model instead.\n",
            "  super().__init__(**kwargs)\n"
          ]
        },
        {
          "output_type": "stream",
          "name": "stdout",
          "text": [
            "\u001b[1m159/159\u001b[0m \u001b[32m━━━━━━━━━━━━━━━━━━━━\u001b[0m\u001b[37m\u001b[0m \u001b[1m1s\u001b[0m 4ms/step\n",
            "\n",
            "🚀 Training dan Evaluasi untuk Without Month Features dengan window size 7 hari...\n"
          ]
        },
        {
          "output_type": "stream",
          "name": "stderr",
          "text": [
            "/usr/local/lib/python3.11/dist-packages/keras/src/layers/rnn/rnn.py:200: UserWarning: Do not pass an `input_shape`/`input_dim` argument to a layer. When using Sequential models, prefer using an `Input(shape)` object as the first layer in the model instead.\n",
            "  super().__init__(**kwargs)\n"
          ]
        },
        {
          "output_type": "stream",
          "name": "stdout",
          "text": [
            "\u001b[1m159/159\u001b[0m \u001b[32m━━━━━━━━━━━━━━━━━━━━\u001b[0m\u001b[37m\u001b[0m \u001b[1m0s\u001b[0m 2ms/step\n",
            "\n",
            "🚀 Training dan Evaluasi untuk Without Month Features dengan window size 14 hari...\n"
          ]
        },
        {
          "output_type": "stream",
          "name": "stderr",
          "text": [
            "/usr/local/lib/python3.11/dist-packages/keras/src/layers/rnn/rnn.py:200: UserWarning: Do not pass an `input_shape`/`input_dim` argument to a layer. When using Sequential models, prefer using an `Input(shape)` object as the first layer in the model instead.\n",
            "  super().__init__(**kwargs)\n"
          ]
        },
        {
          "output_type": "stream",
          "name": "stdout",
          "text": [
            "\u001b[1m159/159\u001b[0m \u001b[32m━━━━━━━━━━━━━━━━━━━━\u001b[0m\u001b[37m\u001b[0m \u001b[1m1s\u001b[0m 3ms/step\n",
            "\n",
            "🚀 Training dan Evaluasi untuk Without Month Features dengan window size 30 hari...\n"
          ]
        },
        {
          "output_type": "stream",
          "name": "stderr",
          "text": [
            "/usr/local/lib/python3.11/dist-packages/keras/src/layers/rnn/rnn.py:200: UserWarning: Do not pass an `input_shape`/`input_dim` argument to a layer. When using Sequential models, prefer using an `Input(shape)` object as the first layer in the model instead.\n",
            "  super().__init__(**kwargs)\n"
          ]
        },
        {
          "output_type": "stream",
          "name": "stdout",
          "text": [
            "\u001b[1m159/159\u001b[0m \u001b[32m━━━━━━━━━━━━━━━━━━━━\u001b[0m\u001b[37m\u001b[0m \u001b[1m1s\u001b[0m 5ms/step\n",
            "\n",
            "🚀 Training dan Evaluasi untuk Without TMIN and Month Features dengan window size 7 hari...\n"
          ]
        },
        {
          "output_type": "stream",
          "name": "stderr",
          "text": [
            "/usr/local/lib/python3.11/dist-packages/keras/src/layers/rnn/rnn.py:200: UserWarning: Do not pass an `input_shape`/`input_dim` argument to a layer. When using Sequential models, prefer using an `Input(shape)` object as the first layer in the model instead.\n",
            "  super().__init__(**kwargs)\n"
          ]
        },
        {
          "output_type": "stream",
          "name": "stdout",
          "text": [
            "\u001b[1m159/159\u001b[0m \u001b[32m━━━━━━━━━━━━━━━━━━━━\u001b[0m\u001b[37m\u001b[0m \u001b[1m0s\u001b[0m 2ms/step\n",
            "\n",
            "🚀 Training dan Evaluasi untuk Without TMIN and Month Features dengan window size 14 hari...\n"
          ]
        },
        {
          "output_type": "stream",
          "name": "stderr",
          "text": [
            "/usr/local/lib/python3.11/dist-packages/keras/src/layers/rnn/rnn.py:200: UserWarning: Do not pass an `input_shape`/`input_dim` argument to a layer. When using Sequential models, prefer using an `Input(shape)` object as the first layer in the model instead.\n",
            "  super().__init__(**kwargs)\n"
          ]
        },
        {
          "output_type": "stream",
          "name": "stdout",
          "text": [
            "\u001b[1m159/159\u001b[0m \u001b[32m━━━━━━━━━━━━━━━━━━━━\u001b[0m\u001b[37m\u001b[0m \u001b[1m1s\u001b[0m 3ms/step\n",
            "\n",
            "🚀 Training dan Evaluasi untuk Without TMIN and Month Features dengan window size 30 hari...\n"
          ]
        },
        {
          "output_type": "stream",
          "name": "stderr",
          "text": [
            "/usr/local/lib/python3.11/dist-packages/keras/src/layers/rnn/rnn.py:200: UserWarning: Do not pass an `input_shape`/`input_dim` argument to a layer. When using Sequential models, prefer using an `Input(shape)` object as the first layer in the model instead.\n",
            "  super().__init__(**kwargs)\n"
          ]
        },
        {
          "output_type": "stream",
          "name": "stdout",
          "text": [
            "\u001b[1m159/159\u001b[0m \u001b[32m━━━━━━━━━━━━━━━━━━━━\u001b[0m\u001b[37m\u001b[0m \u001b[1m1s\u001b[0m 4ms/step\n",
            "\n",
            "📋 Tabel Matriks Evaluasi Lengkap:\n"
          ]
        },
        {
          "output_type": "display_data",
          "data": {
            "text/plain": [
              "                           Scenario  Window Size (days)  Accuracy  Precision  \\\n",
              "0                     Full Features                   7  0.711281   0.702906   \n",
              "1                     Full Features                  14  0.711365   0.717919   \n",
              "2                     Full Features                  30  0.706866   0.735180   \n",
              "3                      Without TMIN                   7  0.698703   0.713755   \n",
              "4                      Without TMIN                  14  0.702517   0.709392   \n",
              "5                      Without TMIN                  30  0.701161   0.700171   \n",
              "6            Without Month Features                   7  0.707744   0.736504   \n",
              "7            Without Month Features                  14  0.706056   0.711953   \n",
              "8            Without Month Features                  30  0.710211   0.694430   \n",
              "9   Without TMIN and Month Features                   7  0.693200   0.689576   \n",
              "10  Without TMIN and Month Features                  14  0.697798   0.708207   \n",
              "11  Without TMIN and Month Features                  30  0.695849   0.699881   \n",
              "\n",
              "      Recall  F1-Score  \n",
              "0   0.587494  0.640039  \n",
              "1   0.558956  0.628543  \n",
              "2   0.513964  0.604984  \n",
              "3   0.518219  0.600469  \n",
              "4   0.540504  0.613538  \n",
              "5   0.552252  0.617477  \n",
              "6   0.515520  0.606510  \n",
              "7   0.549505  0.620269  \n",
              "8   0.600901  0.644289  \n",
              "9   0.541610  0.606702  \n",
              "10  0.524302  0.602534  \n",
              "11  0.531532  0.604199  "
            ],
            "text/html": [
              "\n",
              "  <div id=\"df-a85141ee-4187-4321-8964-23a159b148a1\" class=\"colab-df-container\">\n",
              "    <div>\n",
              "<style scoped>\n",
              "    .dataframe tbody tr th:only-of-type {\n",
              "        vertical-align: middle;\n",
              "    }\n",
              "\n",
              "    .dataframe tbody tr th {\n",
              "        vertical-align: top;\n",
              "    }\n",
              "\n",
              "    .dataframe thead th {\n",
              "        text-align: right;\n",
              "    }\n",
              "</style>\n",
              "<table border=\"1\" class=\"dataframe\">\n",
              "  <thead>\n",
              "    <tr style=\"text-align: right;\">\n",
              "      <th></th>\n",
              "      <th>Scenario</th>\n",
              "      <th>Window Size (days)</th>\n",
              "      <th>Accuracy</th>\n",
              "      <th>Precision</th>\n",
              "      <th>Recall</th>\n",
              "      <th>F1-Score</th>\n",
              "    </tr>\n",
              "  </thead>\n",
              "  <tbody>\n",
              "    <tr>\n",
              "      <th>0</th>\n",
              "      <td>Full Features</td>\n",
              "      <td>7</td>\n",
              "      <td>0.711281</td>\n",
              "      <td>0.702906</td>\n",
              "      <td>0.587494</td>\n",
              "      <td>0.640039</td>\n",
              "    </tr>\n",
              "    <tr>\n",
              "      <th>1</th>\n",
              "      <td>Full Features</td>\n",
              "      <td>14</td>\n",
              "      <td>0.711365</td>\n",
              "      <td>0.717919</td>\n",
              "      <td>0.558956</td>\n",
              "      <td>0.628543</td>\n",
              "    </tr>\n",
              "    <tr>\n",
              "      <th>2</th>\n",
              "      <td>Full Features</td>\n",
              "      <td>30</td>\n",
              "      <td>0.706866</td>\n",
              "      <td>0.735180</td>\n",
              "      <td>0.513964</td>\n",
              "      <td>0.604984</td>\n",
              "    </tr>\n",
              "    <tr>\n",
              "      <th>3</th>\n",
              "      <td>Without TMIN</td>\n",
              "      <td>7</td>\n",
              "      <td>0.698703</td>\n",
              "      <td>0.713755</td>\n",
              "      <td>0.518219</td>\n",
              "      <td>0.600469</td>\n",
              "    </tr>\n",
              "    <tr>\n",
              "      <th>4</th>\n",
              "      <td>Without TMIN</td>\n",
              "      <td>14</td>\n",
              "      <td>0.702517</td>\n",
              "      <td>0.709392</td>\n",
              "      <td>0.540504</td>\n",
              "      <td>0.613538</td>\n",
              "    </tr>\n",
              "    <tr>\n",
              "      <th>5</th>\n",
              "      <td>Without TMIN</td>\n",
              "      <td>30</td>\n",
              "      <td>0.701161</td>\n",
              "      <td>0.700171</td>\n",
              "      <td>0.552252</td>\n",
              "      <td>0.617477</td>\n",
              "    </tr>\n",
              "    <tr>\n",
              "      <th>6</th>\n",
              "      <td>Without Month Features</td>\n",
              "      <td>7</td>\n",
              "      <td>0.707744</td>\n",
              "      <td>0.736504</td>\n",
              "      <td>0.515520</td>\n",
              "      <td>0.606510</td>\n",
              "    </tr>\n",
              "    <tr>\n",
              "      <th>7</th>\n",
              "      <td>Without Month Features</td>\n",
              "      <td>14</td>\n",
              "      <td>0.706056</td>\n",
              "      <td>0.711953</td>\n",
              "      <td>0.549505</td>\n",
              "      <td>0.620269</td>\n",
              "    </tr>\n",
              "    <tr>\n",
              "      <th>8</th>\n",
              "      <td>Without Month Features</td>\n",
              "      <td>30</td>\n",
              "      <td>0.710211</td>\n",
              "      <td>0.694430</td>\n",
              "      <td>0.600901</td>\n",
              "      <td>0.644289</td>\n",
              "    </tr>\n",
              "    <tr>\n",
              "      <th>9</th>\n",
              "      <td>Without TMIN and Month Features</td>\n",
              "      <td>7</td>\n",
              "      <td>0.693200</td>\n",
              "      <td>0.689576</td>\n",
              "      <td>0.541610</td>\n",
              "      <td>0.606702</td>\n",
              "    </tr>\n",
              "    <tr>\n",
              "      <th>10</th>\n",
              "      <td>Without TMIN and Month Features</td>\n",
              "      <td>14</td>\n",
              "      <td>0.697798</td>\n",
              "      <td>0.708207</td>\n",
              "      <td>0.524302</td>\n",
              "      <td>0.602534</td>\n",
              "    </tr>\n",
              "    <tr>\n",
              "      <th>11</th>\n",
              "      <td>Without TMIN and Month Features</td>\n",
              "      <td>30</td>\n",
              "      <td>0.695849</td>\n",
              "      <td>0.699881</td>\n",
              "      <td>0.531532</td>\n",
              "      <td>0.604199</td>\n",
              "    </tr>\n",
              "  </tbody>\n",
              "</table>\n",
              "</div>\n",
              "    <div class=\"colab-df-buttons\">\n",
              "\n",
              "  <div class=\"colab-df-container\">\n",
              "    <button class=\"colab-df-convert\" onclick=\"convertToInteractive('df-a85141ee-4187-4321-8964-23a159b148a1')\"\n",
              "            title=\"Convert this dataframe to an interactive table.\"\n",
              "            style=\"display:none;\">\n",
              "\n",
              "  <svg xmlns=\"http://www.w3.org/2000/svg\" height=\"24px\" viewBox=\"0 -960 960 960\">\n",
              "    <path d=\"M120-120v-720h720v720H120Zm60-500h600v-160H180v160Zm220 220h160v-160H400v160Zm0 220h160v-160H400v160ZM180-400h160v-160H180v160Zm440 0h160v-160H620v160ZM180-180h160v-160H180v160Zm440 0h160v-160H620v160Z\"/>\n",
              "  </svg>\n",
              "    </button>\n",
              "\n",
              "  <style>\n",
              "    .colab-df-container {\n",
              "      display:flex;\n",
              "      gap: 12px;\n",
              "    }\n",
              "\n",
              "    .colab-df-convert {\n",
              "      background-color: #E8F0FE;\n",
              "      border: none;\n",
              "      border-radius: 50%;\n",
              "      cursor: pointer;\n",
              "      display: none;\n",
              "      fill: #1967D2;\n",
              "      height: 32px;\n",
              "      padding: 0 0 0 0;\n",
              "      width: 32px;\n",
              "    }\n",
              "\n",
              "    .colab-df-convert:hover {\n",
              "      background-color: #E2EBFA;\n",
              "      box-shadow: 0px 1px 2px rgba(60, 64, 67, 0.3), 0px 1px 3px 1px rgba(60, 64, 67, 0.15);\n",
              "      fill: #174EA6;\n",
              "    }\n",
              "\n",
              "    .colab-df-buttons div {\n",
              "      margin-bottom: 4px;\n",
              "    }\n",
              "\n",
              "    [theme=dark] .colab-df-convert {\n",
              "      background-color: #3B4455;\n",
              "      fill: #D2E3FC;\n",
              "    }\n",
              "\n",
              "    [theme=dark] .colab-df-convert:hover {\n",
              "      background-color: #434B5C;\n",
              "      box-shadow: 0px 1px 3px 1px rgba(0, 0, 0, 0.15);\n",
              "      filter: drop-shadow(0px 1px 2px rgba(0, 0, 0, 0.3));\n",
              "      fill: #FFFFFF;\n",
              "    }\n",
              "  </style>\n",
              "\n",
              "    <script>\n",
              "      const buttonEl =\n",
              "        document.querySelector('#df-a85141ee-4187-4321-8964-23a159b148a1 button.colab-df-convert');\n",
              "      buttonEl.style.display =\n",
              "        google.colab.kernel.accessAllowed ? 'block' : 'none';\n",
              "\n",
              "      async function convertToInteractive(key) {\n",
              "        const element = document.querySelector('#df-a85141ee-4187-4321-8964-23a159b148a1');\n",
              "        const dataTable =\n",
              "          await google.colab.kernel.invokeFunction('convertToInteractive',\n",
              "                                                    [key], {});\n",
              "        if (!dataTable) return;\n",
              "\n",
              "        const docLinkHtml = 'Like what you see? Visit the ' +\n",
              "          '<a target=\"_blank\" href=https://colab.research.google.com/notebooks/data_table.ipynb>data table notebook</a>'\n",
              "          + ' to learn more about interactive tables.';\n",
              "        element.innerHTML = '';\n",
              "        dataTable['output_type'] = 'display_data';\n",
              "        await google.colab.output.renderOutput(dataTable, element);\n",
              "        const docLink = document.createElement('div');\n",
              "        docLink.innerHTML = docLinkHtml;\n",
              "        element.appendChild(docLink);\n",
              "      }\n",
              "    </script>\n",
              "  </div>\n",
              "\n",
              "\n",
              "    <div id=\"df-ca7cd97f-cec3-4ca6-a86d-2ac33ee6d941\">\n",
              "      <button class=\"colab-df-quickchart\" onclick=\"quickchart('df-ca7cd97f-cec3-4ca6-a86d-2ac33ee6d941')\"\n",
              "                title=\"Suggest charts\"\n",
              "                style=\"display:none;\">\n",
              "\n",
              "<svg xmlns=\"http://www.w3.org/2000/svg\" height=\"24px\"viewBox=\"0 0 24 24\"\n",
              "     width=\"24px\">\n",
              "    <g>\n",
              "        <path d=\"M19 3H5c-1.1 0-2 .9-2 2v14c0 1.1.9 2 2 2h14c1.1 0 2-.9 2-2V5c0-1.1-.9-2-2-2zM9 17H7v-7h2v7zm4 0h-2V7h2v10zm4 0h-2v-4h2v4z\"/>\n",
              "    </g>\n",
              "</svg>\n",
              "      </button>\n",
              "\n",
              "<style>\n",
              "  .colab-df-quickchart {\n",
              "      --bg-color: #E8F0FE;\n",
              "      --fill-color: #1967D2;\n",
              "      --hover-bg-color: #E2EBFA;\n",
              "      --hover-fill-color: #174EA6;\n",
              "      --disabled-fill-color: #AAA;\n",
              "      --disabled-bg-color: #DDD;\n",
              "  }\n",
              "\n",
              "  [theme=dark] .colab-df-quickchart {\n",
              "      --bg-color: #3B4455;\n",
              "      --fill-color: #D2E3FC;\n",
              "      --hover-bg-color: #434B5C;\n",
              "      --hover-fill-color: #FFFFFF;\n",
              "      --disabled-bg-color: #3B4455;\n",
              "      --disabled-fill-color: #666;\n",
              "  }\n",
              "\n",
              "  .colab-df-quickchart {\n",
              "    background-color: var(--bg-color);\n",
              "    border: none;\n",
              "    border-radius: 50%;\n",
              "    cursor: pointer;\n",
              "    display: none;\n",
              "    fill: var(--fill-color);\n",
              "    height: 32px;\n",
              "    padding: 0;\n",
              "    width: 32px;\n",
              "  }\n",
              "\n",
              "  .colab-df-quickchart:hover {\n",
              "    background-color: var(--hover-bg-color);\n",
              "    box-shadow: 0 1px 2px rgba(60, 64, 67, 0.3), 0 1px 3px 1px rgba(60, 64, 67, 0.15);\n",
              "    fill: var(--button-hover-fill-color);\n",
              "  }\n",
              "\n",
              "  .colab-df-quickchart-complete:disabled,\n",
              "  .colab-df-quickchart-complete:disabled:hover {\n",
              "    background-color: var(--disabled-bg-color);\n",
              "    fill: var(--disabled-fill-color);\n",
              "    box-shadow: none;\n",
              "  }\n",
              "\n",
              "  .colab-df-spinner {\n",
              "    border: 2px solid var(--fill-color);\n",
              "    border-color: transparent;\n",
              "    border-bottom-color: var(--fill-color);\n",
              "    animation:\n",
              "      spin 1s steps(1) infinite;\n",
              "  }\n",
              "\n",
              "  @keyframes spin {\n",
              "    0% {\n",
              "      border-color: transparent;\n",
              "      border-bottom-color: var(--fill-color);\n",
              "      border-left-color: var(--fill-color);\n",
              "    }\n",
              "    20% {\n",
              "      border-color: transparent;\n",
              "      border-left-color: var(--fill-color);\n",
              "      border-top-color: var(--fill-color);\n",
              "    }\n",
              "    30% {\n",
              "      border-color: transparent;\n",
              "      border-left-color: var(--fill-color);\n",
              "      border-top-color: var(--fill-color);\n",
              "      border-right-color: var(--fill-color);\n",
              "    }\n",
              "    40% {\n",
              "      border-color: transparent;\n",
              "      border-right-color: var(--fill-color);\n",
              "      border-top-color: var(--fill-color);\n",
              "    }\n",
              "    60% {\n",
              "      border-color: transparent;\n",
              "      border-right-color: var(--fill-color);\n",
              "    }\n",
              "    80% {\n",
              "      border-color: transparent;\n",
              "      border-right-color: var(--fill-color);\n",
              "      border-bottom-color: var(--fill-color);\n",
              "    }\n",
              "    90% {\n",
              "      border-color: transparent;\n",
              "      border-bottom-color: var(--fill-color);\n",
              "    }\n",
              "  }\n",
              "</style>\n",
              "\n",
              "      <script>\n",
              "        async function quickchart(key) {\n",
              "          const quickchartButtonEl =\n",
              "            document.querySelector('#' + key + ' button');\n",
              "          quickchartButtonEl.disabled = true;  // To prevent multiple clicks.\n",
              "          quickchartButtonEl.classList.add('colab-df-spinner');\n",
              "          try {\n",
              "            const charts = await google.colab.kernel.invokeFunction(\n",
              "                'suggestCharts', [key], {});\n",
              "          } catch (error) {\n",
              "            console.error('Error during call to suggestCharts:', error);\n",
              "          }\n",
              "          quickchartButtonEl.classList.remove('colab-df-spinner');\n",
              "          quickchartButtonEl.classList.add('colab-df-quickchart-complete');\n",
              "        }\n",
              "        (() => {\n",
              "          let quickchartButtonEl =\n",
              "            document.querySelector('#df-ca7cd97f-cec3-4ca6-a86d-2ac33ee6d941 button');\n",
              "          quickchartButtonEl.style.display =\n",
              "            google.colab.kernel.accessAllowed ? 'block' : 'none';\n",
              "        })();\n",
              "      </script>\n",
              "    </div>\n",
              "\n",
              "  <div id=\"id_db24d1c7-163b-4164-86ff-83688db84f4a\">\n",
              "    <style>\n",
              "      .colab-df-generate {\n",
              "        background-color: #E8F0FE;\n",
              "        border: none;\n",
              "        border-radius: 50%;\n",
              "        cursor: pointer;\n",
              "        display: none;\n",
              "        fill: #1967D2;\n",
              "        height: 32px;\n",
              "        padding: 0 0 0 0;\n",
              "        width: 32px;\n",
              "      }\n",
              "\n",
              "      .colab-df-generate:hover {\n",
              "        background-color: #E2EBFA;\n",
              "        box-shadow: 0px 1px 2px rgba(60, 64, 67, 0.3), 0px 1px 3px 1px rgba(60, 64, 67, 0.15);\n",
              "        fill: #174EA6;\n",
              "      }\n",
              "\n",
              "      [theme=dark] .colab-df-generate {\n",
              "        background-color: #3B4455;\n",
              "        fill: #D2E3FC;\n",
              "      }\n",
              "\n",
              "      [theme=dark] .colab-df-generate:hover {\n",
              "        background-color: #434B5C;\n",
              "        box-shadow: 0px 1px 3px 1px rgba(0, 0, 0, 0.15);\n",
              "        filter: drop-shadow(0px 1px 2px rgba(0, 0, 0, 0.3));\n",
              "        fill: #FFFFFF;\n",
              "      }\n",
              "    </style>\n",
              "    <button class=\"colab-df-generate\" onclick=\"generateWithVariable('metrics_df')\"\n",
              "            title=\"Generate code using this dataframe.\"\n",
              "            style=\"display:none;\">\n",
              "\n",
              "  <svg xmlns=\"http://www.w3.org/2000/svg\" height=\"24px\"viewBox=\"0 0 24 24\"\n",
              "       width=\"24px\">\n",
              "    <path d=\"M7,19H8.4L18.45,9,17,7.55,7,17.6ZM5,21V16.75L18.45,3.32a2,2,0,0,1,2.83,0l1.4,1.43a1.91,1.91,0,0,1,.58,1.4,1.91,1.91,0,0,1-.58,1.4L9.25,21ZM18.45,9,17,7.55Zm-12,3A5.31,5.31,0,0,0,4.9,8.1,5.31,5.31,0,0,0,1,6.5,5.31,5.31,0,0,0,4.9,4.9,5.31,5.31,0,0,0,6.5,1,5.31,5.31,0,0,0,8.1,4.9,5.31,5.31,0,0,0,12,6.5,5.46,5.46,0,0,0,6.5,12Z\"/>\n",
              "  </svg>\n",
              "    </button>\n",
              "    <script>\n",
              "      (() => {\n",
              "      const buttonEl =\n",
              "        document.querySelector('#id_db24d1c7-163b-4164-86ff-83688db84f4a button.colab-df-generate');\n",
              "      buttonEl.style.display =\n",
              "        google.colab.kernel.accessAllowed ? 'block' : 'none';\n",
              "\n",
              "      buttonEl.onclick = () => {\n",
              "        google.colab.notebook.generateWithVariable('metrics_df');\n",
              "      }\n",
              "      })();\n",
              "    </script>\n",
              "  </div>\n",
              "\n",
              "    </div>\n",
              "  </div>\n"
            ],
            "application/vnd.google.colaboratory.intrinsic+json": {
              "type": "dataframe",
              "variable_name": "metrics_df",
              "summary": "{\n  \"name\": \"metrics_df\",\n  \"rows\": 12,\n  \"fields\": [\n    {\n      \"column\": \"Scenario\",\n      \"properties\": {\n        \"dtype\": \"category\",\n        \"num_unique_values\": 4,\n        \"samples\": [\n          \"Without TMIN\",\n          \"Without TMIN and Month Features\",\n          \"Full Features\"\n        ],\n        \"semantic_type\": \"\",\n        \"description\": \"\"\n      }\n    },\n    {\n      \"column\": \"Window Size (days)\",\n      \"properties\": {\n        \"dtype\": \"number\",\n        \"std\": 10,\n        \"min\": 7,\n        \"max\": 30,\n        \"num_unique_values\": 3,\n        \"samples\": [\n          7,\n          14,\n          30\n        ],\n        \"semantic_type\": \"\",\n        \"description\": \"\"\n      }\n    },\n    {\n      \"column\": \"Accuracy\",\n      \"properties\": {\n        \"dtype\": \"number\",\n        \"std\": 0.006251248477305874,\n        \"min\": 0.6931996855345912,\n        \"max\": 0.7113645300825796,\n        \"num_unique_values\": 12,\n        \"samples\": [\n          0.6977978765237908,\n          0.6931996855345912,\n          0.7112814465408805\n        ],\n        \"semantic_type\": \"\",\n        \"description\": \"\"\n      }\n    },\n    {\n      \"column\": \"Precision\",\n      \"properties\": {\n        \"dtype\": \"number\",\n        \"std\": 0.014552676306926294,\n        \"min\": 0.6895761741122566,\n        \"max\": 0.7365038560411311,\n        \"num_unique_values\": 12,\n        \"samples\": [\n          0.7082066869300911,\n          0.6895761741122566,\n          0.7029063509149623\n        ],\n        \"semantic_type\": \"\",\n        \"description\": \"\"\n      }\n    },\n    {\n      \"column\": \"Recall\",\n      \"properties\": {\n        \"dtype\": \"number\",\n        \"std\": 0.027612770101047884,\n        \"min\": 0.5139639639639639,\n        \"max\": 0.6009009009009009,\n        \"num_unique_values\": 12,\n        \"samples\": [\n          0.5243024302430243,\n          0.5416104363472785,\n          0.5874943769680612\n        ],\n        \"semantic_type\": \"\",\n        \"description\": \"\"\n      }\n    },\n    {\n      \"column\": \"F1-Score\",\n      \"properties\": {\n        \"dtype\": \"number\",\n        \"std\": 0.014835775125954924,\n        \"min\": 0.6004691164972635,\n        \"max\": 0.644288819125815,\n        \"num_unique_values\": 12,\n        \"samples\": [\n          0.6025342642875614,\n          0.6067019400352733,\n          0.640039206076942\n        ],\n        \"semantic_type\": \"\",\n        \"description\": \"\"\n      }\n    }\n  ]\n}"
            }
          },
          "metadata": {}
        },
        {
          "output_type": "stream",
          "name": "stderr",
          "text": [
            "<ipython-input-28-42d025cb7b3a>:155: UserWarning: Glyph 128202 (\\N{BAR CHART}) missing from font(s) DejaVu Sans.\n",
            "  plt.tight_layout(rect=[0, 0, 1, 0.96])\n",
            "/usr/local/lib/python3.11/dist-packages/IPython/core/pylabtools.py:151: UserWarning: Glyph 128202 (\\N{BAR CHART}) missing from font(s) DejaVu Sans.\n",
            "  fig.canvas.print_figure(bytes_io, **kw)\n"
          ]
        },
        {
          "output_type": "display_data",
          "data": {
            "text/plain": [
              "<Figure size 1800x1000 with 4 Axes>"
            ],
            "image/png": "[encoded data removed]"
          },
          "metadata": {}
        }
      ]
    },
    {
      "cell_type": "markdown",
      "source": [],
      "metadata": {
        "id": "1sMeKNRd-7dQ"
      }
    }
  ]
}